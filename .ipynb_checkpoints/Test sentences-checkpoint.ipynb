{
 "cells": [
  {
   "cell_type": "markdown",
   "metadata": {},
   "source": [
    "# Experiments"
   ]
  },
  {
   "cell_type": "markdown",
   "metadata": {},
   "source": [
    "### Loading the model"
   ]
  },
  {
   "cell_type": "code",
   "execution_count": 10,
   "metadata": {},
   "outputs": [],
   "source": [
    "import pickle\n",
    "from utils import AssignProbSent, plot_minimal_pair\n",
    "import utils"
   ]
  },
  {
   "cell_type": "code",
   "execution_count": 11,
   "metadata": {},
   "outputs": [],
   "source": [
    "modelname = 'TrieRoot'\n",
    "# Trained on Harry Potter 1-7\n",
    "infile = open(modelname, 'rb')\n",
    "root = pickle.load(infile)\n",
    "infile.close()"
   ]
  },
  {
   "cell_type": "code",
   "execution_count": 12,
   "metadata": {},
   "outputs": [
    {
     "name": "stdout",
     "output_type": "stream",
     "text": [
      "26057\n"
     ]
    }
   ],
   "source": [
    "# verify the loading of model\n",
    "print(len(root))"
   ]
  },
  {
   "cell_type": "code",
   "execution_count": 16,
   "metadata": {},
   "outputs": [],
   "source": [
    "filename = 'eval_dataset'\n",
    "infile = open(filename, 'rb')\n",
    "eval_set = pickle.load(infile)\n",
    "infile.close()"
   ]
  },
  {
   "cell_type": "code",
   "execution_count": 18,
   "metadata": {},
   "outputs": [
    {
     "name": "stdout",
     "output_type": "stream",
     "text": [
      "4355\n"
     ]
    }
   ],
   "source": [
    "# verify the loading of test set\n",
    "print(len(eval_set))"
   ]
  },
  {
   "cell_type": "markdown",
   "metadata": {},
   "source": [
    "### Load the handpicked LDD sentences"
   ]
  },
  {
   "cell_type": "code",
   "execution_count": 19,
   "metadata": {},
   "outputs": [],
   "source": [
    "filename = 'isarewhichherhimitmehimselfitselfherselfwaswere'\n",
    "infile = open(filename, 'rb')\n",
    "someLDD = pickle.load(infile)\n",
    "infile.close()"
   ]
  },
  {
   "cell_type": "code",
   "execution_count": 20,
   "metadata": {},
   "outputs": [],
   "source": [
    "index_list = [4,5,55,97,238,283,287,288,322,336,345,517,522,524,538,546,574,601,626,665,993,1006,1281,1582,1617,2115,2871,2828,3357,3363,3346,]"
   ]
  },
  {
   "cell_type": "code",
   "execution_count": 21,
   "metadata": {},
   "outputs": [
    {
     "name": "stdout",
     "output_type": "stream",
     "text": [
      "31\n"
     ]
    }
   ],
   "source": [
    "print(len(index_list))"
   ]
  },
  {
   "cell_type": "code",
   "execution_count": 22,
   "metadata": {},
   "outputs": [
    {
     "name": "stdout",
     "output_type": "stream",
     "text": [
      "sentence number: 4: \t ['ron', 'was', 'on', 'his', 'feet', '.']\n",
      "\n",
      "sentence number: 5: \t ['her', 'arms', 'were', 'crossed', 'and', 'she', 'looked', 'furious', '.']\n",
      "\n",
      "sentence number: 55: \t ['you', 'have', 'sent', 'voldemort', 'a', 'deputy', 'who', 'is', 'in', 'your', 'debt', '.']\n",
      "\n",
      "sentence number: 97: \t ['ron', 'had', 'the', 'grace', 'to', 'look', 'ashamed', 'of', 'himself', '.']\n",
      "\n",
      "sentence number: 238: \t ['on', 'the', 'pretext', 'of', 'shifting', 'himself', 'closer', 'to', 'the', 'table', 'he', 'managed', 'it', '.']\n",
      "\n",
      "sentence number: 283: \t ['then', 'she', 'leapt', 'to', 'her', 'feet', ',', 'said', ',', '“', 'see', 'you', 'at', 'dinner', '!', '”', 'and', 'departed', 'at', 'high', 'speed', '.']\n",
      "\n",
      "sentence number: 287: \t ['harry', 'felt', 'shivery', ';', 'his', 'scar', 'was', 'still', 'aching', ',', 'he', 'felt', 'almost', 'feverish', '.']\n",
      "\n",
      "sentence number: 288: \t ['he', 'was', 'so', 'angry', 'he', 'could', 'hardly', 'speak', '.']\n",
      "\n",
      "sentence number: 322: \t ['she', 'had', 'no', 'wand', 'upon', 'her', 'either', '.']\n",
      "\n",
      "sentence number: 336: \t ['“', 'you', 'all', 'right', ',', 'neville', '?', '”', 'harry', 'asked', 'him', '.']\n",
      "\n",
      "sentence number: 345: \t ['let', 'it', 'drown', ',', 'harry', 'thought', ',', 'his', 'scar', 'burning', 'almost', 'past', 'endurance', ',', 'please', '.']\n",
      "\n",
      "sentence number: 517: \t ['hermione', 'was', 'biting', 'her', 'lip', ',', 'deep', 'in', 'thought', '.']\n",
      "\n",
      "sentence number: 522: \t ['harry', 'wondered', ',', 'for', 'a', 'moment', ',', 'whether', 'he', 'was', 'going', 'to', 'shout', 'at', 'him', '.']\n",
      "\n",
      "sentence number: 524: \t ['professor', 'trelawney', 'sank', 'into', 'a', 'vacant', 'armchair', ',', 'her', 'glittering', 'hand', 'at', 'her', 'heart', 'and', 'her', 'eyes', 'closed', '.']\n",
      "\n",
      "sentence number: 538: \t ['“', 'oh', 'no', ',', '”', 'said', 'hermione', ',', 'quaking', 'so', 'badly', 'that', 'her', 'knees', 'gave', 'way', '.']\n",
      "\n",
      "sentence number: 546: \t ['he', 'acknowledged', 'it', 'with', 'a', 'jovial', 'wave', 'of', 'his', 'hand', '.']\n",
      "\n",
      "sentence number: 574: \t ['harry', 'saw', ',', 'with', 'enormous', 'satisfaction', ',', 'that', 'the', 'slytherin', 'team', 'were', 'all', 'looking', 'thunderstruck', '.']\n",
      "\n",
      "sentence number: 601: \t ['hope', 'the', 'muggles', 'are', 'treating', 'you', 'right', '.']\n",
      "\n",
      "sentence number: 626: \t ['the', 'room', 'looked', 'as', 'though', 'it', 'was', 'being', 'used', 'as', 'a', 'temporary', 'warehouse', '.']\n",
      "\n",
      "sentence number: 665: \t ['she', 'ruffled', 'her', 'feathers', 'and', 'gave', 'him', 'a', 'look', 'of', 'deep', 'disgust', '.']\n",
      "\n",
      "sentence number: 993: \t ['“', 'i', 'will', 'say', 'it', 'again', ',', '”', 'said', 'dumbledore', 'as', 'the', 'phoenix', 'rose', 'into', 'the', 'air', 'and', 'resettled', 'itself', 'upon', 'the', 'perch', 'beside', 'the', 'door', '.']\n",
      "\n",
      "sentence number: 1006: \t ['although', 'he', 'could', 'tell', 'it', 'was', 'daylight', ',', 'he', 'kept', 'his', 'eyes', 'shut', 'tight', '.']\n",
      "\n",
      "sentence number: 1281: \t ['every', 'death', 'eater', 'had', 'the', 'sign', 'burned', 'into', 'him', 'by', 'the', 'dark', 'lord', '.']\n",
      "\n",
      "sentence number: 1582: \t ['he', 'could', 'feel', 'rita', 'skeeter', 'watching', 'him', 'very', 'intently', '.']\n",
      "\n",
      "sentence number: 1617: \t ['at', 'the', 'same', 'moment', ',', 'harry', 'felt', 'a', 'creeping', 'chill', 'behind', 'him', 'that', 'could', 'mean', 'only', 'one', 'thing', '.']\n",
      "\n",
      "sentence number: 2115: \t ['his', 'heart', 'drummed', 'madly', 'inside', 'him', ',', 'but', 'his', 'brain', 'was', 'oddly', 'cool', 'and', 'clear', '.']\n",
      "\n",
      "sentence number: 2871: \t ['the', 'members', 'of', 'the', 'wizengamot', 'were', 'muttering', '.']\n",
      "\n",
      "sentence number: 2828: \t ['each', 'of', 'them', 'was', 'now', 'approaching', 'six', 'feet', 'in', 'length', '.']\n",
      "\n",
      "sentence number: 3357: \t ['gloom', 'seemed', 'to', 'be', 'settling', 'on', 'him', 'again', '.']\n",
      "\n",
      "sentence number: 3363: \t ['he', '’', 'll', 'probably', 'come', 'bursting', 'right', 'into', 'the', 'castle', 'if', 'i', 'tell', 'him', 'someone', '’', 's', 'entered', 'me', 'in', 'the', 'triwizard', 'tournament', '—', '”', '“', 'he', '’', 'd', 'want', 'you', 'to', 'tell', 'him', ',', '”', 'said', 'hermione', 'sternly', '.']\n",
      "\n",
      "sentence number: 3346: \t ['it', 'now', 'dawned', 'on', 'harry', ',', 'however', ',', 'that', 'the', 'cup', 'of', 'cold', 'tea', 'on', 'which', 'he', 'had', 'trodden', 'that', 'morning', 'might', 'not', 'have', 'been', 'a', 'booby', 'trap', 'at', 'all', '.']\n",
      "\n"
     ]
    }
   ],
   "source": [
    "for index in index_list:\n",
    "    print(f'sentence number: {index}: \\t {someLDD[index]}\\n')"
   ]
  },
  {
   "cell_type": "markdown",
   "metadata": {},
   "source": [
    "# Tests"
   ]
  },
  {
   "cell_type": "code",
   "execution_count": 11,
   "metadata": {},
   "outputs": [
    {
     "name": "stdout",
     "output_type": "stream",
     "text": [
      "['ron', 'was', 'on', 'his', 'feet', '.']\n",
      "['ron', 'was', 'on', 'her', 'feet', '.']\n"
     ]
    }
   ],
   "source": [
    "sentence1 = ['ron', 'was', 'on', 'his', 'feet', '.']\n",
    "sentence2 = ['ron', 'was', 'on', 'her', 'feet', '.']\n",
    "print(sentence1)\n",
    "print(sentence2)"
   ]
  },
  {
   "cell_type": "code",
   "execution_count": null,
   "metadata": {},
   "outputs": [],
   "source": []
  },
  {
   "cell_type": "markdown",
   "metadata": {},
   "source": [
    "## Compare 31 sentences"
   ]
  },
  {
   "cell_type": "code",
   "execution_count": 34,
   "metadata": {},
   "outputs": [],
   "source": [
    "def CompareProb(sentence, bad_sentence, root):\n",
    "    Prob1 = AssignProbSent(sentence,root)\n",
    "    Prob2 = AssignProbSent(bad_sentence,root)\n",
    "    if Prob1 > Prob2:\n",
    "        print('bad sentence has lower prob')\n",
    "        return 1\n",
    "    else: \n",
    "        print('bad sentence has higher prob')\n",
    "        print(sentence)\n",
    "        print(bad_sentence)\n",
    "        return 0"
   ]
  },
  {
   "cell_type": "code",
   "execution_count": 35,
   "metadata": {},
   "outputs": [
    {
     "name": "stdout",
     "output_type": "stream",
     "text": [
      "31\n"
     ]
    }
   ],
   "source": [
    "Good = []\n",
    "for index in index_list:\n",
    "    Good.append(someLDD[index])\n",
    "print(len(Good))"
   ]
  },
  {
   "cell_type": "code",
   "execution_count": 39,
   "metadata": {},
   "outputs": [],
   "source": [
    "bad_sentences = [\n",
    "['ron', 'was', 'on', 'her', 'feet', '.'],\n",
    "['her', 'arms', 'were', 'crossed', 'and', 'he', 'looked', 'furious', '.'],\n",
    "['you', 'have', 'sent', 'voldemort', 'a', 'deputy', 'who', 'are', 'in', 'your', 'debt', '.'],\n",
    "['ron', 'had', 'the', 'grace', 'to', 'look', 'ashamed', 'of', 'herself', '.'],\n",
    "['on', 'the', 'pretext', 'of', 'shifting', 'herself', 'closer', 'to', 'the', 'table', 'he', 'managed', 'it', '.'],\n",
    "['then', 'she', 'leapt', 'to', 'his', 'feet', ',', 'said', ',', '“', 'see', 'you', 'at', 'dinner', '!', '”', 'and', 'departed', 'at', 'high', 'speed', '.'],\n",
    "['harry', 'felt', 'shivery', ';', 'her', 'scar', 'was', 'still', 'aching', ',', 'he', 'felt', 'almost', 'feverish', '.'],\n",
    "['he', 'was', 'so', 'angry', 'she', 'could', 'hardly', 'speak', '.'],\n",
    "['she', 'had', 'no', 'wand', 'upon', 'him', 'either', '.'],\n",
    "['“', 'you', 'all', 'right', ',', 'neville', '?', '”', 'harry', 'asked', 'her', '.'],\n",
    "['let', 'it', 'drown', ',', 'harry', 'thought', ',', 'her', 'scar', 'burning', 'almost', 'past', 'endurance', ',', 'please', '.'],\n",
    "['hermione', 'was', 'biting', 'his', 'lip', ',', 'deep', 'in', 'thought', '.'],\n",
    "['harry', 'wondered', ',', 'for', 'a', 'moment', ',', 'whether', 'she', 'was', 'going', 'to', 'shout', 'at', 'him', '.'],\n",
    "['professor', 'trelawney', 'sank', 'into', 'a', 'vacant', 'armchair', ',', 'his', 'glittering', 'hand', 'at', 'her', 'heart', 'and', 'her', 'eyes', 'closed', '.'],\n",
    "['“', 'oh', 'no', ',', '”', 'said', 'hermione', ',', 'quaking', 'so', 'badly', 'that', 'his', 'knees', 'gave', 'way', '.'],\n",
    "['he', 'acknowledged', 'it', 'with', 'a', 'jovial', 'wave', 'of', 'her', 'hand', '.'],\n",
    "['harry', 'saw', ',', 'with', 'enormous', 'satisfaction', ',', 'that', 'the', 'slytherin', 'team', 'was', 'all', 'looking', 'thunderstruck', '.'],\n",
    "['hope', 'the', 'muggles', 'is', 'treating', 'you', 'right', '.'],\n",
    "['the', 'room', 'looked', 'as', 'though', 'it', 'is', 'being', 'used', 'as', 'a', 'temporary', 'warehouse', '.'],\n",
    "['she', 'ruffled', 'his', 'feathers', 'and', 'gave', 'him', 'a', 'look', 'of', 'deep', 'disgust', '.'],\n",
    "['“', 'i', 'will', 'say', 'it', 'again', ',', '”', 'said', 'dumbledore', 'as', 'the', 'phoenix', 'rose', 'into', 'the', 'air', 'and', 'resettled', 'herself', 'upon', 'the', 'perch', 'beside', 'the', 'door', '.'],\n",
    "['although', 'he', 'could', 'tell', 'it', 'was', 'daylight', ',', 'he', 'kept', 'her', 'eyes', 'shut', 'tight', '.'],\n",
    "['every', 'death', 'eater', 'had', 'the', 'sign', 'burned', 'into', 'he', 'by', 'the', 'dark', 'lord', '.'],\n",
    "['he', 'could', 'feel', 'rita', 'skeeter', 'watching', 'her', 'very', 'intently', '.'],\n",
    "['at', 'the', 'same', 'moment', ',', 'harry', 'felt', 'a', 'creeping', 'chill', 'behind', 'her', 'that', 'could', 'mean', 'only', 'one', 'thing', '.'],\n",
    "['his', 'heart', 'drummed', 'madly', 'inside', 'her', ',', 'but', 'his', 'brain', 'was', 'oddly', 'cool', 'and', 'clear', '.'],\n",
    "['the', 'members', 'of', 'the', 'wizengamot', 'was', 'muttering', '.'],\n",
    "['each', 'of', 'them', 'were', 'now', 'approaching', 'six', 'feet', 'in', 'length', '.'],\n",
    "['gloom', 'seemed', 'to', 'be', 'settling', 'on', 'her', 'again', '.'],\n",
    "['he', '’', 'll', 'probably', 'come', 'bursting', 'right', 'into', 'the', 'castle', 'if', 'i', 'tell', 'her', 'someone', '’', 's', 'entered', 'me', 'in', 'the', 'triwizard', 'tournament', '—', '”', '“', 'he', '’', 'd', 'want', 'you', 'to', 'tell', 'him', ',', '”', 'said', 'hermione', 'sternly', '.'],\n",
    "['it', 'now', 'dawned', 'on', 'harry', ',', 'however', ',', 'that', 'the', 'cup', 'of', 'cold', 'tea', 'on', 'which', 'him', 'had', 'trodden', 'that', 'morning', 'might', 'not', 'have', 'been', 'a', 'booby', 'trap', 'at', 'all', '.'],\n",
    "]"
   ]
  },
  {
   "cell_type": "code",
   "execution_count": 40,
   "metadata": {},
   "outputs": [
    {
     "name": "stdout",
     "output_type": "stream",
     "text": [
      "31\n"
     ]
    }
   ],
   "source": [
    "print(len(bad_sentences))"
   ]
  },
  {
   "cell_type": "code",
   "execution_count": 41,
   "metadata": {},
   "outputs": [
    {
     "name": "stdout",
     "output_type": "stream",
     "text": [
      "0th pair\n",
      "bad sentence has lower prob\n",
      "1th pair\n",
      "bad sentence has lower prob\n",
      "2th pair\n",
      "bad sentence has lower prob\n",
      "3th pair\n",
      "bad sentence has lower prob\n",
      "4th pair\n",
      "bad sentence has lower prob\n",
      "5th pair\n",
      "bad sentence has higher prob\n",
      "['then', 'she', 'leapt', 'to', 'her', 'feet', ',', 'said', ',', '“', 'see', 'you', 'at', 'dinner', '!', '”', 'and', 'departed', 'at', 'high', 'speed', '.']\n",
      "['then', 'she', 'leapt', 'to', 'his', 'feet', ',', 'said', ',', '“', 'see', 'you', 'at', 'dinner', '!', '”', 'and', 'departed', 'at', 'high', 'speed', '.']\n",
      "6th pair\n",
      "bad sentence has lower prob\n",
      "7th pair\n",
      "bad sentence has lower prob\n",
      "8th pair\n",
      "bad sentence has lower prob\n",
      "9th pair\n",
      "bad sentence has higher prob\n",
      "['“', 'you', 'all', 'right', ',', 'neville', '?', '”', 'harry', 'asked', 'him', '.']\n",
      "['“', 'you', 'all', 'right', ',', 'neville', '?', '”', 'harry', 'asked', 'her', '.']\n",
      "10th pair\n",
      "bad sentence has lower prob\n",
      "11th pair\n",
      "bad sentence has lower prob\n",
      "12th pair\n",
      "bad sentence has lower prob\n",
      "13th pair\n",
      "bad sentence has higher prob\n",
      "['professor', 'trelawney', 'sank', 'into', 'a', 'vacant', 'armchair', ',', 'her', 'glittering', 'hand', 'at', 'her', 'heart', 'and', 'her', 'eyes', 'closed', '.']\n",
      "['professor', 'trelawney', 'sank', 'into', 'a', 'vacant', 'armchair', ',', 'his', 'glittering', 'hand', 'at', 'her', 'heart', 'and', 'her', 'eyes', 'closed', '.']\n",
      "14th pair\n",
      "bad sentence has lower prob\n",
      "15th pair\n",
      "bad sentence has lower prob\n",
      "16th pair\n",
      "bad sentence has lower prob\n",
      "17th pair\n",
      "bad sentence has lower prob\n",
      "18th pair\n",
      "bad sentence has lower prob\n",
      "19th pair\n",
      "bad sentence has lower prob\n",
      "20th pair\n",
      "bad sentence has lower prob\n",
      "21th pair\n",
      "bad sentence has lower prob\n",
      "22th pair\n",
      "bad sentence has lower prob\n",
      "23th pair\n",
      "bad sentence has lower prob\n",
      "24th pair\n",
      "bad sentence has lower prob\n",
      "25th pair\n",
      "bad sentence has lower prob\n",
      "26th pair\n",
      "bad sentence has lower prob\n",
      "27th pair\n",
      "bad sentence has higher prob\n",
      "['each', 'of', 'them', 'was', 'now', 'approaching', 'six', 'feet', 'in', 'length', '.']\n",
      "['each', 'of', 'them', 'were', 'now', 'approaching', 'six', 'feet', 'in', 'length', '.']\n",
      "28th pair\n",
      "bad sentence has lower prob\n",
      "29th pair\n",
      "bad sentence has lower prob\n",
      "30th pair\n",
      "bad sentence has lower prob\n",
      "27\n"
     ]
    }
   ],
   "source": [
    "num = 0\n",
    "for i,(sent, bad) in enumerate(zip(Good, bad_sentences)):\n",
    "    print(f'{i}th pair')\n",
    "    num+=CompareProb(sent,bad,root)\n",
    "\n",
    "print(num)"
   ]
  },
  {
   "cell_type": "markdown",
   "metadata": {},
   "source": [
    "Unigram probability need to be taken into consideration\n",
    "look at sentences with 'has have is were was are'\n",
    "set a clock on each step of the program(see where lies the bottleneck?)\n",
    "print() in various parts\n",
    "apostolic succession: \n",
    "\n",
    "3 different but related expreiments :(at least two different on the go)\n",
    "* pronuon agreement: probablity lowered when pronuon changed(esp. wrt Unigram Probability, if: else:)?\n",
    "* subj verb agreement\n",
    "* Distance between agreeing elements (degradation of overall prob (wrt the unigrams in the middle))\n",
    "\n",
    "Katz:languages and other abstract objects\n",
    "Platonist grammar\n",
    "\n",
    "'mentalist view of lang' \n",
    "'trans-finite number' "
   ]
  },
  {
   "cell_type": "code",
   "execution_count": null,
   "metadata": {},
   "outputs": [],
   "source": []
  },
  {
   "cell_type": "code",
   "execution_count": null,
   "metadata": {},
   "outputs": [],
   "source": []
  }
 ],
 "metadata": {
  "kernelspec": {
   "display_name": "Python 3",
   "language": "python",
   "name": "python3"
  },
  "language_info": {
   "codemirror_mode": {
    "name": "ipython",
    "version": 3
   },
   "file_extension": ".py",
   "mimetype": "text/x-python",
   "name": "python",
   "nbconvert_exporter": "python",
   "pygments_lexer": "ipython3",
   "version": "3.6.9"
  }
 },
 "nbformat": 4,
 "nbformat_minor": 4
}
