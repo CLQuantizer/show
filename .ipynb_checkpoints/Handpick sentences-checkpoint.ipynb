{
 "cells": [
  {
   "cell_type": "code",
   "execution_count": 2,
   "metadata": {},
   "outputs": [],
   "source": [
    "import pickle\n",
    "import numpy as np\n",
    "from utils import AssignProbSent, plot_minimal_pair, show_unigram_prob, compare_sets\n",
    "from utils import log_uni_unk_prob, sentences_unigram_probability, calculating_perplexity\n",
    "import utils\n",
    "from sentence_manipulation import find_sentence_that_have, comparative_sent_printing, x2y\n",
    "count_sign = '__COUNT__'"
   ]
  },
  {
   "cell_type": "markdown",
   "metadata": {},
   "source": [
    "# **Load the Model and test set sentences**"
   ]
  },
  {
   "cell_type": "code",
   "execution_count": 3,
   "metadata": {},
   "outputs": [],
   "source": [
    "modelname = 'TrieRoot'\n",
    "# Trained on Harry Potter 1-7\n",
    "infile = open(modelname, 'rb')\n",
    "root = pickle.load(infile)\n",
    "infile.close()\n",
    "\n",
    "filename = 'eval_dataset'\n",
    "infile = open(filename, 'rb')\n",
    "eval_set = pickle.load(infile)\n",
    "infile.close()"
   ]
  },
  {
   "cell_type": "code",
   "execution_count": 4,
   "metadata": {},
   "outputs": [
    {
     "name": "stdout",
     "output_type": "stream",
     "text": [
      "There are 1539227 tokens in the training corpus\n",
      "And 4355 sentences in the evaluation set.\n"
     ]
    }
   ],
   "source": [
    "print(f'There are {root[count_sign]} tokens in the training corpus')\n",
    "print(f'And {len(eval_set)} sentences in the evaluation set.')"
   ]
  },
  {
   "cell_type": "markdown",
   "metadata": {},
   "source": [
    "# Find numbers of bigram"
   ]
  },
  {
   "cell_type": "code",
   "execution_count": 5,
   "metadata": {},
   "outputs": [],
   "source": [
    "def fin_uni_bi_tri_of(root, count_sign ='__COUNT__'):\n",
    "    vocab = len(root)-1\n",
    "    nu = len(root)-1\n",
    "    nb = 0\n",
    "    nt = 0\n",
    "    for key0 in root.keys():\n",
    "        if key0 == count_sign:\n",
    "            continue\n",
    "        else:\n",
    "            nb += len(root[key0].keys())-1\n",
    "        for key1 in root[key0].keys():\n",
    "            if key1 == count_sign:\n",
    "                continue\n",
    "            else:\n",
    "                nt += len(root[key0][key1].keys())-1\n",
    "    print(nu)\n",
    "    print(nb)\n",
    "    print(nt)"
   ]
  },
  {
   "cell_type": "code",
   "execution_count": 6,
   "metadata": {},
   "outputs": [
    {
     "name": "stdout",
     "output_type": "stream",
     "text": [
      "25997\n",
      "292602\n",
      "738312\n"
     ]
    }
   ],
   "source": [
    "fin_uni_bi_tri_of(root)"
   ]
  },
  {
   "cell_type": "code",
   "execution_count": 7,
   "metadata": {},
   "outputs": [
    {
     "data": {
      "text/plain": [
       "25998"
      ]
     },
     "execution_count": 7,
     "metadata": {},
     "output_type": "execute_result"
    }
   ],
   "source": [
    "len(root)"
   ]
  },
  {
   "cell_type": "markdown",
   "metadata": {},
   "source": [
    "# Get the target sentences"
   ]
  },
  {
   "cell_type": "code",
   "execution_count": 190,
   "metadata": {},
   "outputs": [
    {
     "name": "stdout",
     "output_type": "stream",
     "text": [
      "286 243\n"
     ]
    }
   ],
   "source": [
    "# a=[0,0]\n",
    "# for i, key in enumerate(['be', 'were']):\n",
    "#     a[i]=find_sentence_that_have(key,eval_set)\n",
    "# # for i, x in enumerate(a[1]):\n",
    "# #     print(i,'____:',x)\n",
    "# print(len(a[0]),len(a[1]))"
   ]
  },
  {
   "cell_type": "code",
   "execution_count": 511,
   "metadata": {},
   "outputs": [
    {
     "name": "stdout",
     "output_type": "stream",
     "text": [
      "3092\n",
      "17421\n",
      "4559\n",
      "21\n"
     ]
    }
   ],
   "source": [
    "for x in ['is','harry','all','rarely']:\n",
    "    print(x,'\\t',root[x][count_sign])"
   ]
  },
  {
   "cell_type": "markdown",
   "metadata": {},
   "source": [
    "# **⬇️Dump various files onto the disk⬇️**"
   ]
  },
  {
   "cell_type": "code",
   "execution_count": 193,
   "metadata": {},
   "outputs": [],
   "source": [
    "filename='be_sentences'\n",
    "outfile = open(filename,'wb')\n",
    "pickle.dump(a[0],outfile)\n",
    "outfile.close()"
   ]
  },
  {
   "cell_type": "markdown",
   "metadata": {},
   "source": [
    "# Experiments on **is sentences**"
   ]
  },
  {
   "cell_type": "code",
   "execution_count": 64,
   "metadata": {},
   "outputs": [],
   "source": [
    "# unigram_prob_dictionary = {}\n",
    "# for i,w in enumerate(root.keys()):\n",
    "#     if w!=count_sign:\n",
    "#         unigram_prob_dictionary[w] = show_unigram_prob(root,w)\n",
    "#     if i%1000 == 0:\n",
    "#         print(f'{i}iterations finished')\n",
    "# print(len(unigram_prob_dictionary))"
   ]
  },
  {
   "cell_type": "code",
   "execution_count": 65,
   "metadata": {},
   "outputs": [],
   "source": [
    "# unigram_file='unigram_log_probability'\n",
    "# outfile = open(unigram_file, 'wb')\n",
    "# pickle.dump(unigram_prob_dictionary,outfile)\n",
    "# outfile.close()"
   ]
  },
  {
   "cell_type": "code",
   "execution_count": 80,
   "metadata": {},
   "outputs": [
    {
     "data": {
      "text/plain": [
       "-15.230727779784264"
      ]
     },
     "execution_count": 80,
     "metadata": {},
     "output_type": "execute_result"
    }
   ],
   "source": [
    "# unk probability\n",
    "x = -15.23 \n"
   ]
  },
  {
   "cell_type": "code",
   "execution_count": 81,
   "metadata": {},
   "outputs": [],
   "source": [
    "e =999\n",
    "word = ''\n",
    "for key in unigram_prob_dictionary.keys():\n",
    "    cur_error = np.abs(unigram_prob_dictionary[key]-x)\n",
    "    if cur_error<e:\n",
    "        e = cur_error\n",
    "        word = key\n",
    "        "
   ]
  },
  {
   "cell_type": "code",
   "execution_count": 82,
   "metadata": {},
   "outputs": [
    {
     "name": "stdout",
     "output_type": "stream",
     "text": [
      "relative. -14.2468\n"
     ]
    }
   ],
   "source": [
    "print(word, unigram_prob_dictionary[word])"
   ]
  },
  {
   "cell_type": "code",
   "execution_count": 222,
   "metadata": {},
   "outputs": [
    {
     "name": "stdout",
     "output_type": "stream",
     "text": [
      "is\n",
      "-6.2102\n",
      "are\n",
      "-6.5905\n",
      "was\n",
      "-4.5664\n",
      "were\n",
      "-5.8797\n",
      "be\n",
      "-5.8301\n"
     ]
    }
   ],
   "source": [
    "target_list = []\n",
    "l4 = ['is','are','was','were','be']\n",
    "for w in l4:\n",
    "    error = 999\n",
    "    print(w)\n",
    "    print(unigram_prob_dictionary[w])\n",
    "    for key in unigram_prob_dictionary.keys():\n",
    "        if key not in l4 and key!='got':\n",
    "            cur_error = np.abs(unigram_prob_dictionary[key] - unigram_prob_dictionary[w])\n",
    "            if cur_error < error:\n",
    "                target = key  \n",
    "                error = cur_error\n",
    "    target_list.append((w,target,unigram_prob_dictionary[target]))"
   ]
  },
  {
   "cell_type": "code",
   "execution_count": 223,
   "metadata": {},
   "outputs": [
    {
     "name": "stdout",
     "output_type": "stream",
     "text": [
      "[('is', 'who', -6.2341), ('are', 'my', -6.6062), ('was', 'his', -4.5987), ('were', 'from', -5.8858), ('be', 'out', -5.8327)]\n"
     ]
    }
   ],
   "source": [
    "print(target_list)"
   ]
  },
  {
   "cell_type": "code",
   "execution_count": 225,
   "metadata": {},
   "outputs": [
    {
     "name": "stdout",
     "output_type": "stream",
     "text": [
      "had -5.0215\n",
      "was -4.5664\n",
      "were -5.8797\n",
      "be -5.8301\n",
      "is -6.2102\n"
     ]
    }
   ],
   "source": [
    "for w in ['had','was','were','be','is']:\n",
    "    print(w, unigram_prob_dictionary[w])"
   ]
  },
  {
   "cell_type": "code",
   "execution_count": 215,
   "metadata": {},
   "outputs": [
    {
     "name": "stdout",
     "output_type": "stream",
     "text": [
      "214\n"
     ]
    }
   ],
   "source": [
    "filename='is_sentences'\n",
    "infile = open(filename,'rb')\n",
    "is_sentences=pickle.load(infile)\n",
    "infile.close()\n",
    "print(len(is_sentences))"
   ]
  },
  {
   "cell_type": "code",
   "execution_count": 469,
   "metadata": {},
   "outputs": [
    {
     "name": "stdout",
     "output_type": "stream",
     "text": [
      "['“', 'is', 'he', '—', 'a', 'bit', 'mad', '?', '”', 'he', 'asked', 'percy', 'uncertainly', '.']\n"
     ]
    }
   ],
   "source": [
    "print(is_sentences[5])"
   ]
  },
  {
   "cell_type": "code",
   "execution_count": 504,
   "metadata": {},
   "outputs": [],
   "source": [
    "bad_is_sentences = x2y(is_sentences, 'is','are')\n",
    "unk_is_sentences = x2y(is_sentences, 'is','who')"
   ]
  },
  {
   "cell_type": "code",
   "execution_count": 505,
   "metadata": {},
   "outputs": [
    {
     "name": "stdout",
     "output_type": "stream",
     "text": [
      "Good avg log_prob is : -71.05\n",
      "Bad avg log_prob is : -84.99\n",
      "\n",
      "-----------------PERPLEXITY-------------------\n",
      "\n",
      "good Perplexity is : 14.36\n",
      "bad Perplexity is : 46.84\n",
      "210 out of 214 are correct predictions\n"
     ]
    },
    {
     "data": {
      "text/plain": [
       "[9, 34, 91, 126]"
      ]
     },
     "execution_count": 505,
     "metadata": {},
     "output_type": "execute_result"
    }
   ],
   "source": [
    "is_index=compare_sets(is_sentences,bad_is_sentences,root)\n",
    "is_index"
   ]
  },
  {
   "cell_type": "markdown",
   "metadata": {},
   "source": [
    "#### Select non-local sentences"
   ]
  },
  {
   "cell_type": "code",
   "execution_count": 299,
   "metadata": {},
   "outputs": [
    {
     "name": "stdout",
     "output_type": "stream",
     "text": [
      "30\n"
     ]
    }
   ],
   "source": [
    "non_local_dependency_sentence_index = [2,9,14,18,36,43,45,46,60,78,83,84,95,99,116,119,120,122,126,133,137,144,155,158,182,185,199,206,207,210]\n",
    "lis = []\n",
    "for i in non_local_dependency_sentence_index:\n",
    "#     print(is_sentences[i])\n",
    "    lis.append(is_sentences[i])\n",
    "\n",
    "print(len(lis))"
   ]
  },
  {
   "cell_type": "code",
   "execution_count": 319,
   "metadata": {},
   "outputs": [],
   "source": [
    "bad_lis = x2y(lis, 'is','be')\n",
    "unk_lis = x2y(lis, 'is','who')"
   ]
  },
  {
   "cell_type": "code",
   "execution_count": 320,
   "metadata": {
    "scrolled": true
   },
   "outputs": [
    {
     "name": "stdout",
     "output_type": "stream",
     "text": [
      "Good avg log_prob is : -81.39\n",
      "Bad avg log_prob is : -95.65\n",
      "\n",
      "-----------------PERPLEXITY-------------------\n",
      "\n",
      "good Perplexity is : 13.26\n",
      "bad Perplexity is : 23.17\n",
      "28 out of 30 are correct predictions\n"
     ]
    },
    {
     "data": {
      "text/plain": [
       "[1, 18]"
      ]
     },
     "execution_count": 320,
     "metadata": {},
     "output_type": "execute_result"
    }
   ],
   "source": [
    "compare_sets(lis,bad_lis,root)"
   ]
  },
  {
   "cell_type": "code",
   "execution_count": 321,
   "metadata": {},
   "outputs": [
    {
     "name": "stdout",
     "output_type": "stream",
     "text": [
      "Good avg log_prob is : -81.39\n",
      "Bad avg log_prob is : -97.3\n",
      "\n",
      "-----------------PERPLEXITY-------------------\n",
      "\n",
      "good Perplexity is : 13.26\n",
      "bad Perplexity is : 22.9\n",
      "30 out of 30 are correct predictions\n"
     ]
    },
    {
     "data": {
      "text/plain": [
       "[]"
      ]
     },
     "execution_count": 321,
     "metadata": {},
     "output_type": "execute_result"
    }
   ],
   "source": [
    "compare_sets(lis,unk_lis,root)"
   ]
  },
  {
   "cell_type": "markdown",
   "metadata": {},
   "source": [
    "# Experiments on **are sentences**"
   ]
  },
  {
   "cell_type": "code",
   "execution_count": 211,
   "metadata": {},
   "outputs": [
    {
     "name": "stdout",
     "output_type": "stream",
     "text": [
      "154\n"
     ]
    }
   ],
   "source": [
    "filename='are_sentences'\n",
    "infile = open(filename,'rb')\n",
    "are_sentences=pickle.load(infile)\n",
    "infile.close()\n",
    "print(len(are_sentences))"
   ]
  },
  {
   "cell_type": "code",
   "execution_count": 212,
   "metadata": {},
   "outputs": [],
   "source": [
    "bad_are_sentences = x2y(are_sentences, 'are','be')\n",
    "unk_are_sentences = x2y(are_sentences, 'are','my')"
   ]
  },
  {
   "cell_type": "code",
   "execution_count": 213,
   "metadata": {},
   "outputs": [],
   "source": [
    "# for i,(s1,s2) in enumerate(zip(are_sentences,bad_are_sentences)):\n",
    "#     print(f'\\n{i}th\\n{s1}\\n{s2}')"
   ]
  },
  {
   "cell_type": "code",
   "execution_count": 214,
   "metadata": {},
   "outputs": [
    {
     "name": "stdout",
     "output_type": "stream",
     "text": [
      "Good avg log_prob is : -71.28\n",
      "Bad avg log_prob is : -85.81\n",
      "\n",
      "-----------------PERPLEXITY-------------------\n",
      "\n",
      "good Perplexity is : 14.08\n",
      "bad Perplexity is : 30.38\n",
      "154 out of 154 are correct predictions\n"
     ]
    },
    {
     "data": {
      "text/plain": [
       "[]"
      ]
     },
     "execution_count": 214,
     "metadata": {},
     "output_type": "execute_result"
    }
   ],
   "source": [
    "compare_sets(are_sentences,bad_are_sentences,root)"
   ]
  },
  {
   "cell_type": "code",
   "execution_count": 97,
   "metadata": {},
   "outputs": [
    {
     "name": "stdout",
     "output_type": "stream",
     "text": [
      "Good avg log_prob is : -71.28\n",
      "Bad avg log_prob is : -87.29\n",
      "\n",
      "-----------------PERPLEXITY-------------------\n",
      "\n",
      "good Perplexity is : 14.08\n",
      "bad Perplexity is : 32.81\n",
      "154 out of 154 are correct predictions\n"
     ]
    },
    {
     "data": {
      "text/plain": [
       "[]"
      ]
     },
     "execution_count": 97,
     "metadata": {},
     "output_type": "execute_result"
    }
   ],
   "source": [
    "compare_sets(are_sentences,unk_are_sentences,root)"
   ]
  },
  {
   "cell_type": "markdown",
   "metadata": {},
   "source": [
    "## Long distance sentences"
   ]
  },
  {
   "cell_type": "code",
   "execution_count": 324,
   "metadata": {},
   "outputs": [
    {
     "name": "stdout",
     "output_type": "stream",
     "text": [
      "14\n"
     ]
    }
   ],
   "source": [
    "non_local_dependency_are_sentence_index =  [6, 17,22,34,48,53,58,83,90,93,94,129,132,134]\n",
    "lare = []\n",
    "for i in non_local_dependency_are_sentence_index:\n",
    "#     print(is_sentences[i])\n",
    "    lare.append(are_sentences[i])\n",
    "print(len(lare))"
   ]
  },
  {
   "cell_type": "code",
   "execution_count": 335,
   "metadata": {},
   "outputs": [],
   "source": [
    "bad_lare = x2y(lare, 'are','be')\n",
    "unk_lare = x2y(lare, 'are','was')"
   ]
  },
  {
   "cell_type": "code",
   "execution_count": 336,
   "metadata": {},
   "outputs": [
    {
     "name": "stdout",
     "output_type": "stream",
     "text": [
      "Good avg log_prob is : -80.17\n",
      "Bad avg log_prob is : -95.35\n",
      "\n",
      "-----------------PERPLEXITY-------------------\n",
      "\n",
      "good Perplexity is : 16.54\n",
      "bad Perplexity is : 25.18\n",
      "14 out of 14 are correct predictions\n",
      "Good avg log_prob is : -80.17\n",
      "Bad avg log_prob is : -91.56\n",
      "\n",
      "-----------------PERPLEXITY-------------------\n",
      "\n",
      "good Perplexity is : 16.54\n",
      "bad Perplexity is : 22.12\n",
      "13 out of 14 are correct predictions\n"
     ]
    }
   ],
   "source": [
    "lll_index = compare_sets(lare, bad_lare, root)\n",
    "lll_index = compare_sets(lare, unk_lare, root)\n",
    "# for i in lll:\n",
    "#     print(i)"
   ]
  },
  {
   "cell_type": "markdown",
   "metadata": {},
   "source": [
    "# Experiment on **was sentences**"
   ]
  },
  {
   "cell_type": "code",
   "execution_count": 246,
   "metadata": {},
   "outputs": [
    {
     "name": "stdout",
     "output_type": "stream",
     "text": [
      "872\n"
     ]
    }
   ],
   "source": [
    "filename='was_sentences'\n",
    "infile = open(filename,'rb')\n",
    "was_sentences=pickle.load(infile)\n",
    "infile.close()\n",
    "print(len(was_sentences))"
   ]
  },
  {
   "cell_type": "code",
   "execution_count": 344,
   "metadata": {},
   "outputs": [],
   "source": [
    "bad_was_sentences = x2y(was_sentences, 'was','be')\n",
    "unk_was_sentences = x2y(was_sentences, 'was','his')"
   ]
  },
  {
   "cell_type": "code",
   "execution_count": 345,
   "metadata": {},
   "outputs": [],
   "source": [
    "non_local_dependency_was_sentence_index =  [\n",
    "    21,28,30,32,33,59,69,77,85,93,97,107,109,123,138,144,145,148,\n",
    "    150,153,166,167,170,172,184,192,193,196,197,230,231,233,243,\n",
    "    250,258,263,266,273,282,295,301,303,321,343,350,352,370,371,377,\n",
    "    387,392,400,414,419,422,428,431,432,448,449,454,457,458,460,464,\n",
    "    477,498,501,505,508,517,533,543,547,552,556,557,576,593,594,595,\n",
    "    597,603,617,627,639,645,649,657,663,667,674,678,697,709,713,721,\n",
    "    746,752,760,770,772,783,788,796,797,799,803,818,829,830,837,840,\n",
    "    844,857,858,860,870\n",
    "]\n",
    "lwas = []\n",
    "for i in non_local_dependency_was_sentence_index:\n",
    "#     print(is_sentences[i])\n",
    "    lwas.append(was_sentences[i])\n",
    "    "
   ]
  },
  {
   "cell_type": "code",
   "execution_count": 350,
   "metadata": {},
   "outputs": [],
   "source": [
    "bad_lwas = x2y(lwas, 'was','were')\n",
    "unk_lwas = x2y(lwas, 'was','are')"
   ]
  },
  {
   "cell_type": "code",
   "execution_count": 351,
   "metadata": {},
   "outputs": [
    {
     "name": "stdout",
     "output_type": "stream",
     "text": [
      "118\n",
      "Good avg log_prob is : -78.79\n",
      "Bad avg log_prob is : -89.78\n",
      "\n",
      "-----------------PERPLEXITY-------------------\n",
      "\n",
      "good Perplexity is : 25.78\n",
      "bad Perplexity is : 35.03\n",
      "116 out of 118 are correct predictions\n",
      "Good avg log_prob is : -78.79\n",
      "Bad avg log_prob is : -92.14\n",
      "\n",
      "-----------------PERPLEXITY-------------------\n",
      "\n",
      "good Perplexity is : 25.78\n",
      "bad Perplexity is : 39.59\n",
      "117 out of 118 are correct predictions\n"
     ]
    }
   ],
   "source": [
    "print(len(lwas))\n",
    "lll_index = compare_sets(lwas, bad_lwas, root)\n",
    "lll_index = compare_sets(lwas, unk_lwas, root)\n",
    "# for i in lll:\n",
    "#     print(i)"
   ]
  },
  {
   "cell_type": "code",
   "execution_count": 352,
   "metadata": {},
   "outputs": [],
   "source": [
    "# f = open(\"was_sentences.txt\", \"w\")\n",
    "# for i,s in enumerate(was_sentences):\n",
    "#     f.write(f'{i}th\\n'+str(s)+'\\n')\n",
    "# f.close()\n"
   ]
  },
  {
   "cell_type": "code",
   "execution_count": 250,
   "metadata": {},
   "outputs": [
    {
     "name": "stdout",
     "output_type": "stream",
     "text": [
      "Good avg log_prob is : -72.32\n",
      "Bad avg log_prob is : -88.13\n",
      "\n",
      "-----------------PERPLEXITY-------------------\n",
      "\n",
      "good Perplexity is : 20.8\n",
      "bad Perplexity is : 50.69\n",
      "868 out of 872 are correct predictions\n"
     ]
    },
    {
     "data": {
      "text/plain": [
       "[460, 655, 658, 837]"
      ]
     },
     "execution_count": 250,
     "metadata": {},
     "output_type": "execute_result"
    }
   ],
   "source": [
    "compare_sets(was_sentences,bad_was_sentences,root)"
   ]
  },
  {
   "cell_type": "markdown",
   "metadata": {},
   "source": [
    "# Experiment on **were sentences**"
   ]
  },
  {
   "cell_type": "code",
   "execution_count": 471,
   "metadata": {},
   "outputs": [
    {
     "name": "stdout",
     "output_type": "stream",
     "text": [
      "243\n",
      "171\n"
     ]
    }
   ],
   "source": [
    "filename='were_sentences'\n",
    "infile = open(filename,'rb')\n",
    "were_sentences=pickle.load(infile)\n",
    "infile.close()\n",
    "print(len(were_sentences))\n",
    "\n",
    "sent2write = []\n",
    "for s in were_sentences:\n",
    "    were_id = s.index('were')\n",
    "    if (s[were_id+1]=='you' or \n",
    "        s[were_id+1]=='we' or \n",
    "        s[were_id+1]=='they' or\n",
    "        s[were_id-1]=='you' or \n",
    "        s[were_id-1]=='we'or\n",
    "        s[were_id-1]=='they'):\n",
    "        continue\n",
    "    else:\n",
    "            sent2write.append(s)\n",
    "print(len(sent2write))"
   ]
  },
  {
   "cell_type": "code",
   "execution_count": 470,
   "metadata": {},
   "outputs": [],
   "source": [
    "subjunctive_were_index = [\n",
    "    19,35,46,64,91,98,99,132,\n",
    "]\n",
    "subjunctive_list = []\n",
    "for i in subjunctive_were_index:\n",
    "    subjunctive_list.append(sent2write[i])"
   ]
  },
  {
   "cell_type": "code",
   "execution_count": 473,
   "metadata": {},
   "outputs": [],
   "source": [
    "for s in were_sentences:\n",
    "    if s in subjunctive_list:\n",
    "        were_sentences.remove(s)"
   ]
  },
  {
   "cell_type": "code",
   "execution_count": 474,
   "metadata": {},
   "outputs": [
    {
     "name": "stdout",
     "output_type": "stream",
     "text": [
      "235\n"
     ]
    }
   ],
   "source": [
    "print(len(were_sentences))"
   ]
  },
  {
   "cell_type": "code",
   "execution_count": 487,
   "metadata": {},
   "outputs": [],
   "source": [
    "bad_were_sentences = x2y(were_sentences, 'were','is')\n",
    "unk_were_sentences = x2y(were_sentences, 'were','from')"
   ]
  },
  {
   "cell_type": "code",
   "execution_count": 488,
   "metadata": {},
   "outputs": [
    {
     "name": "stdout",
     "output_type": "stream",
     "text": [
      "blue-and-bronze and silks are 2 consecutive unk word in ['with', 'blue-and-bronze', 'silks']\n",
      "blue-and-bronze and silks are 2 consecutive unk word in ['with', 'blue-and-bronze', 'silks']\n",
      "introductory and spiel are 2 consecutive unk word in ['his', 'introductory', 'spiel']\n",
      "introductory and spiel are 2 consecutive unk word in ['his', 'introductory', 'spiel']\n",
      "Good avg log_prob is : -76.65\n",
      "Bad avg log_prob is : -90.42\n",
      "\n",
      "-----------------PERPLEXITY-------------------\n",
      "\n",
      "good Perplexity is : 22.82\n",
      "bad Perplexity is : 64.78\n",
      "230 out of 235 are correct predictions\n",
      "blue-and-bronze and silks are 2 consecutive unk word in ['with', 'blue-and-bronze', 'silks']\n",
      "blue-and-bronze and silks are 2 consecutive unk word in ['with', 'blue-and-bronze', 'silks']\n",
      "introductory and spiel are 2 consecutive unk word in ['his', 'introductory', 'spiel']\n",
      "introductory and spiel are 2 consecutive unk word in ['his', 'introductory', 'spiel']\n",
      "Good avg log_prob is : -76.65\n",
      "Bad avg log_prob is : -92.12\n",
      "\n",
      "-----------------PERPLEXITY-------------------\n",
      "\n",
      "good Perplexity is : 22.82\n",
      "bad Perplexity is : 99.8\n",
      "235 out of 235 are correct predictions\n"
     ]
    },
    {
     "data": {
      "text/plain": [
       "[]"
      ]
     },
     "execution_count": 488,
     "metadata": {},
     "output_type": "execute_result"
    }
   ],
   "source": [
    "compare_sets(were_sentences,bad_were_sentences,root)\n",
    "compare_sets(were_sentences,unk_were_sentences,root)"
   ]
  },
  {
   "cell_type": "code",
   "execution_count": null,
   "metadata": {},
   "outputs": [],
   "source": [
    "non_local_dependency_were_sentence_index =  [\n",
    "    0,3,4,5,7,10,11,12,13,14,15,16,17,22,23,24,25,26,27,28,29,30,32,33,36,38,40,41,42,\n",
    "    43,48,49,50,51,53,54,55,58,59,60,62,66,67,69,70,71,73,74,77,78,79,81,84,85,86,89,90,\n",
    "    93,94,97,100,103,105,106,107,109,110,111,113,115,116,117,119,121,123,124,125,128,\n",
    "    130,131,133,136,141,143,144,145,146,149,150,152,156,157,159,162,164,165,166,167,168,169,\n",
    "]\n",
    "lwere = []\n",
    "for i in non_local_dependency_were_sentence_index:\n",
    "#     print(is_sentences[i])\n",
    "    lwere.append(sent2write[i])"
   ]
  },
  {
   "cell_type": "code",
   "execution_count": 499,
   "metadata": {},
   "outputs": [
    {
     "name": "stdout",
     "output_type": "stream",
     "text": [
      "100\n"
     ]
    }
   ],
   "source": [
    "print(len(lwere))\n"
   ]
  },
  {
   "cell_type": "code",
   "execution_count": 501,
   "metadata": {},
   "outputs": [
    {
     "name": "stdout",
     "output_type": "stream",
     "text": [
      "['and', 'if', 'mum', 'and', 'dad', 'were', 'going', 'to', 'become', 'traitors', 'to', 'the', 'ministry', 'he', 'was', 'going', 'to', 'make', 'sure', 'everyone', 'knew', 'he', 'didn', '’', 't', 'belong', 'to', 'our', 'family', 'anymore', '.']\n",
      "['familiar', 'flutterings', 'of', 'panic', 'were', 'starting', 'to', 'disturb', 'harry', 'now', ',', 'and', 'he', 'was', 'finding', 'it', 'difficult', 'to', 'concentrate', 'in', 'class', 'again', '.']\n",
      "['“', 'i', 'couldn', '’', 't', 'help', 'overhearing', 'what', 'you', 'and', 'malfoy', 'were', 'saying', '—', '”', '“', 'bet', 'you', 'could', ',', '”', 'ron', 'muttered', '.']\n",
      "['as', 'they', 'walked', 'out', 'onto', 'the', 'pitch', ',', 'a', 'roar', 'of', 'noise', 'greeted', 'them', ';', 'mainly', 'cheers', ',', 'because', 'ravenclaw', 'and', 'hufflepuff', 'were', 'anxious', 'to', 'see', 'slytherin', 'beaten', ',', 'but', 'the', 'slytherins', 'in', 'the', 'crowd', 'made', 'their', 'boos', 'and', 'hisses', 'heard', ',', 'too', '.']\n",
      "['he', 'had', 'never', 'seen', 'a', 'wizard', 'work', 'things', 'out', 'like', 'this', ',', 'simply', 'by', 'looking', 'and', 'touching', ';', 'but', 'harry', 'had', 'long', 'since', 'learned', 'that', 'bangs', 'and', 'smoke', 'were', 'more', 'often', 'the', 'marks', 'of', 'ineptitude', 'than', 'expertise', '.']\n",
      "['unheard', 'by', 'any', 'of', 'them', 'in', 'the', 'muffling', 'snow', ',', 'malfoy', ',', 'crabbe', ',', 'and', 'goyle', 'were', 'walking', 'along', 'right', 'behind', 'them', '.']\n",
      "['it', '’', 's', 'the', 'azkaban', 'guards', 'who', '’', 'll', 'get', 'him', 'back', ',', 'you', 'mark', 'my', 'words.', '”', 'at', 'that', 'moment', 'mrs.', 'weasley', 'entered', 'the', 'bar', ',', 'laden', 'with', 'shopping', 'bags', 'and', 'followed', 'by', 'the', 'twins', ',', 'fred', 'and', 'george', ',', 'who', 'were', 'about', 'to', 'start', 'their', 'fifth', 'year', 'at', 'hogwarts', ';', 'the', 'newly', 'elected', 'head', 'boy', ',', 'percy', ';', 'and', 'the', 'weasleys', '’', 'youngest', 'child', 'and', 'only', 'girl', ',', 'ginny', '.']\n",
      "['there', 'they', 'all', 'were', ',', 'talking', 'about', 'homework', 'and', 'quidditch', 'and', 'who', 'knew', 'what', 'other', 'rubbish', ',', 'and', 'outside', 'these', 'walls', 'ten', 'more', 'death', 'eaters', 'had', 'swollen', 'voldemort', '’', 's', 'ranks', '.']\n",
      "['terrible', 'though', 'it', 'was', 'to', 'hear', 'his', 'parents', '’', 'last', 'moments', 'replayed', 'inside', 'his', 'head', ',', 'these', 'were', 'the', 'only', 'times', 'harry', 'had', 'heard', 'their', 'voices', 'since', 'he', 'was', 'a', 'very', 'small', 'child', '.']\n",
      "['the', 'gryffindors', 'around', 'them', 'were', 'so', 'miserable', ',', 'and', 'felt', 'so', 'sorry', 'for', 'the', 'weasleys', ',', 'that', 'nobody', 'tried', 'to', 'stop', 'them', 'as', 'they', 'got', 'up', ',', 'crossed', 'the', 'room', ',', 'and', 'left', 'through', 'the', 'portrait', 'hole', '.']\n",
      "['harry', 'could', 'see', 'madam', 'pomfrey', 'fussing', 'over', 'hermione', ',', 'krum', ',', 'cedric', ',', 'and', 'cho', ',', 'all', 'of', 'whom', 'were', 'wrapped', 'in', 'thick', 'blankets', '.']\n",
      "['“', 'harry', ',', '”', 'she', 'said', ',', '“', 'i', 'would', 'like', 'to', 'know', 'what', 'you', 'and', 'professor', 'dumbledore', 'were', 'doing', 'this', 'evening', 'when', 'you', 'left', 'the', 'school.', '”', '“', 'i', 'can', '’', 't', 'tell', 'you', 'that', ',', 'professor', ',', '”', 'said', 'harry', '.']\n",
      "['but', 'now', 'the', 'doors', 'were', 'slamming', 'all', 'along', 'the', 'scarlet', 'train', ',', 'and', 'the', 'blurred', 'outlines', 'of', 'parents', 'were', 'swarming', 'forward', 'for', 'final', 'kisses', ',', 'last-minute', 'reminders', '.']\n",
      "['.', '”', 'hermione', 'returned', 'to', 'the', 'table', 'where', 'harry', 'and', 'ron', 'were', 'sitting', 'staring', 'at', 'their', 'schoolbags', 'as', 'though', 'hoping', 'their', 'homework', 'might', 'spring', 'out', 'of', 'it', 'and', 'start', 'doing', 'itself', '.']\n",
      "['bill', 'and', 'fleur', 'were', 'standing', 'at', 'the', 'foot', 'of', 'the', 'stairs', '.']\n",
      "['faintly', 'scribed', 'into', 'the', 'tree', 'were', 'the', 'letters', ',', 'g.g', ',', 'h.h', ',', 'r.r', ',', 'and', 's.s.', '“', 'the', 'founders', ',', '”', 'snape', 'breathed', '.']\n",
      "['they', 'too', 'were', 'wearing', 'those', 'silver', 'crown-shaped', 'badges', '.']\n",
      "['“', 'no', 'idea', 'where', 'he', 'is', ',', 'i', 'suppose', '?', '”', '“', 'none', 'at', 'all', ',', '”', 'said', 'umbridge', ',', 'shooting', 'a', 'malevolent', 'look', 'at', 'harry', ',', 'ron', ',', 'and', 'hermione', ',', 'who', 'were', 'now', 'dawdling', 'around', 'the', 'foot', 'of', 'the', 'stairs', 'as', 'ron', 'pretended', 'to', 'do', 'up', 'his', 'shoelace', '.']\n",
      "['“', 'if', 'they', 'really', 'were', 'death', 'eaters', ',', 'they', 'worked', 'very', 'hard', 'to', 'keep', 'out', 'of', 'azkaban', 'when', 'you-know-who', 'lost', 'power', ',', 'and', 'told', 'all', 'sorts', 'of', 'lies', 'about', 'him', 'forcing', 'them', 'to', 'kill', 'and', 'torture', 'people', '.']\n",
      "['crabbe', 'and', 'goyle', 'were', 'standing', 'behind', 'him', ',', 'shoulder', 'to', 'shoulder', ',', 'wands', 'pointing', 'right', 'at', 'harry', '.']\n",
      "['soon', 'they', 'could', 'no', 'longer', 'see', 'the', 'walls', 'of', 'the', 'cavern', ';', 'they', 'might', 'have', 'been', 'at', 'sea', 'except', 'that', 'there', 'were', 'no', 'waves', '.']\n",
      "['it', 'was', 'a', 'huge', 'effort', 'now', 'to', 'close', 'down', 'the', 'visions', 'that', 'were', 'forcing', 'themselves', 'upon', 'him', ',', 'but', 'he', 'knew', 'that', 'he', 'would', 'have', 'to', 'resist', 'only', 'a', 'little', 'longer', '.']\n",
      "['the', 'only', 'light', 'now', 'came', 'from', 'the', 'silvery', 'ghosts', ',', 'who', 'were', 'drifting', 'about', 'talking', 'seriously', 'to', 'the', 'prefects', ',', 'and', 'the', 'enchanted', 'ceiling', ',', 'which', ',', 'like', 'the', 'sky', 'outside', ',', 'was', 'scattered', 'with', 'stars', '.']\n",
      "['“', 'marvolo', ',', 'his', 'son', ',', 'morfin', ',', 'and', 'his', 'daughter', ',', 'merope', ',', 'were', 'the', 'last', 'of', 'the', 'gaunts', ',', 'a', 'very', 'ancient', 'wizarding', 'family', 'noted', 'for', 'a', 'vein', 'of', 'instability', 'and', 'violence', 'that', 'flourished', 'through', 'the', 'generations', 'due', 'to', 'their', 'habit', 'of', 'marrying', 'their', 'own', 'cousins', '.']\n",
      "['and', 'then', ',', 'suddenly', ',', 'the', 'sparks', 'emanating', 'from', 'the', 'cauldron', 'were', 'extinguished', '.']\n",
      "['the', 'colorful', ',', 'glittering', 'window', 'displays', 'of', 'spellbooks', ',', 'potion', 'ingredients', ',', 'and', 'cauldrons', 'were', 'lost', 'to', 'view', ',', 'hidden', 'behind', 'the', 'large', 'ministry', 'of', 'magic', 'posters', 'that', 'had', 'been', 'pasted', 'over', 'them', '.']\n",
      "['beside', 'him', 'were', 'a', 'couple', 'of', 'expensive', 'looking', 'trunks', ',', 'and', 'his', 'grey', 'eagle-owl', 'perched', 'atop', 'his', 'broomstick', '.']\n",
      "['both', 'of', 'them', 'were', 'thickset', 'and', 'looked', 'extremely', 'mean', '.']\n",
      "['the', 'people', 'below', 'were', 'crowded', 'around', 'the', 'foot', 'of', 'the', 'stairs', ',', 'gazing', 'intently', 'up', 'at', 'him', ',', 'some', 'craning', 'their', 'heads', 'for', 'a', 'better', 'look', '.']\n",
      "['“', 'your', 'elf', '’', 's', 'scared', 'of', 'heights', ',', 'and', 'those', 'wizards', 'in', 'masks', 'were', 'levitating', 'people', '!']\n",
      "['harry', '’', 's', 'eyes', ',', 'however', ',', 'were', 'fixed', 'upon', 'the', 'ground', 'at', 'the', 'foot', 'of', 'the', 'tallest', 'tower', '.']\n",
      "['there', 'were', 'no', 'seats', ';', 'instead', ',', 'half', 'a', 'dozen', 'brass', 'bedsteads', 'stood', 'beside', 'the', 'curtained', 'windows', '.']\n",
      "['these', 'two', 'survivors', '–', 'godric', 'of', 'the', 'gryffindors', 'and', 'salazar', 'of', 'the', 'slytherins', '–', 'were', 'unable', 'to', 'exact', 'revenge', '.']\n",
      "['however', ',', 'they', 'enjoyed', 'themselves', 'trying', 'to', 'make', 'hagrid', 'tell', 'them', 'what', 'the', 'tasks', 'in', 'the', 'tournament', 'were', 'going', 'to', 'be', ',', 'speculating', 'which', 'of', 'the', 'entrants', 'were', 'likely', 'to', 'be', 'selected', 'as', 'champions', ',', 'and', 'wondering', 'whether', 'fred', 'and', 'george', 'were', 'beardless', 'yet', '.']\n",
      "['“', 'what', '’', 's', 'he', 'avoiding', 'us', 'for', '?', '”', 'hermione', 'said', 'when', 'they', 'had', 'finally', 'given', 'up', 'and', 'were', 'walking', 'back', 'to', 'the', 'school', '.']\n",
      "['harry', 'and', 'ron', ',', 'the', 'only', 'ones', 'left', 'in', 'their', 'dormitory', ',', 'were', 'woken', 'very', 'early', 'by', 'hermione', ',', 'who', 'burst', 'in', ',', 'fully', 'dressed', 'and', 'carrying', 'presents', 'for', 'them', 'both', '.']\n",
      "['all', 'three', 'of', 'them', 'were', 'puffy-eyed', 'and', 'pale', 'because', 'they', 'had', 'been', 'talking', 'late', 'into', 'the', 'night', 'about', 'mr.', 'crouch', '.']\n",
      "['they', '’', 'd', 'gotten', 'the', 'idea', 'from', 'malfoy', 'using', 'it', 'on', 'neville', ',', 'and', 'were', 'ready', 'to', 'use', 'it', 'on', 'snape', 'if', 'he', 'showed', 'any', 'sign', 'of', 'wanting', 'to', 'hurt', 'harry', '.']\n",
      "['said', 'a', 'voice', 'in', 'his', 'head', '—', 'but', 'the', 'footsteps', 'were', 'thundering', 'up', 'the', 'stairs', 'and', 'harry', 'still', 'hadn', '’', 't', 'done', 'it', '.']\n",
      "['“', 'maybe', 'they', '’', 'll', 'cover', 'up', '—', '”', 'the', 'sky', ',', 'the', 'smell', 'of', 'lake', 'water', ',', 'the', 'sound', 'of', 'ron', '’', 's', 'voice', 'were', 'extinguished', ':', 'pain', 'cleaved', 'harry', '’', 's', 'head', 'like', 'a', 'sword', 'stroke', '.']\n",
      "['ernie', 'macmillan', 'and', 'hannah', 'abbott', 'were', 'swapping', 'chocolate', 'frog', 'cards', 'at', 'a', 'nearby', 'table', ',', 'both', 'of', 'them', 'sporting', 'support', 'cedric', 'diggory', '!']\n",
      "['“', 'i', 'know', 'viktor', 'said', 'it', 'was', 'grindelwald', '’', 's', 'mark', ',', 'but', 'it', 'was', 'definitely', 'on', 'that', 'old', 'grave', 'in', 'godric', '’', 's', 'hollow', ',', 'and', 'the', 'dates', 'on', 'the', 'headstone', 'were', 'long', 'before', 'grindelwald', 'came', 'along', '!']\n",
      "['he', 'could', 'just', 'imagine', 'professor', 'mcgonagall', '’', 's', 'reaction', 'if', 'he', 'were', 'caught', 'trespassing', 'in', 'professor', 'umbridge', '’', 's', 'office', 'mere', 'hours', 'after', 'she', 'had', 'vouched', 'for', 'him', '.']\n",
      "['oh', ',', 'great', 'now', 'it', 'sounds', 'like', 'me', 'and', 'malfoy', 'were', 'planning', 'to…', '“', 'i', 'ran', ',', 'you', 'stupid', 'girl', ',', '”', 'snape', 'said', 'coldly', '.']\n",
      "['didn', '’', 't', 'i', 'tell', 'you', '?', '”', 'as', 'harry', 'emerged', 'into', 'the', 'room', 'beyond', 'the', 'passage', ',', 'there', 'were', 'several', 'screams', 'and', 'yells', ':', '“', 'harry', '!', '”', '“', 'it', '’', 's', 'potter', ',', 'it', '’', 's', 'potter', '!', '”', '“', 'ron', '!', '”', '“', 'hermione', '!', '”', 'he', 'had', 'a', 'confused', 'impression', 'of', 'colored', 'hangings', ',', 'of', 'lamps', 'and', 'many', 'faces', '.']\n",
      "['loud', 'bangings', 'and', 'scrapings', 'were', 'coming', 'from', 'behind', 'the', 'dursleys', '’', 'boarded-up', 'fireplace', ',', 'which', 'had', 'a', 'fake', 'coal', 'fire', 'plugged', 'in', 'front', 'of', 'it', '.']\n",
      "['there', ',', 'in', 'full', 'view', 'of', 'the', 'whole', 'room', ',', 'stood', 'ron', 'wrapped', 'so', 'closely', 'around', 'lavender', 'brown', 'it', 'was', 'hard', 'to', 'tell', 'whose', 'hands', 'were', 'whose', '.']\n",
      "['crabbe', 'and', 'goyle', 'were', 'standing', 'behind', 'him', '.']\n",
      "['three', 'of', 'them', 'were', 'still', 'clutching', 'scarves', 'and', 'shawls', 'around', 'their', 'heads', '.']\n",
      "['it', 'was', 'therefore', 'a', 'full', 'week', 'later', '—', 'once', 'they', 'had', 'surreptitiously', 'obtained', 'hairs', 'from', 'innocent', 'muggles', 'who', 'were', 'christmas', 'shopping', ',', 'and', 'had', 'practiced', 'apparating', 'and', 'disapparating', 'while', 'underneath', 'the', 'invisibility', 'cloak', 'together', '—', 'that', 'hermione', 'agreed', 'to', 'make', 'the', 'journey', '.']\n",
      "['there', 'were', ',', 'however', ',', 'things', 'that', 'harry', 'needed', 'to', 'buy', '.']\n",
      "['everlasting', 'icicles', 'had', 'been', 'attached', 'to', 'the', 'banisters', 'of', 'the', 'marble', 'staircase', ';', 'the', 'usual', 'twelve', 'christmas', 'trees', 'in', 'the', 'great', 'hall', 'were', 'bedecked', 'with', 'everything', 'from', 'luminous', 'holly', 'berries', 'to', 'real', ',', 'hooting', ',', 'golden', 'owls', ',', 'and', 'the', 'suits', 'of', 'armor', 'had', 'all', 'been', 'bewitched', 'to', 'sing', 'carols', 'whenever', 'anyone', 'passed', 'them', '.']\n",
      "['expecto', '—', '”', 'but', 'the', 'classroom', 'and', 'the', 'dementor', 'were', 'dissolving', '.']\n",
      "['it', 'was', 'fortunate', 'that', 'goyle', 'and', 'zabini', 'were', 'snarling', 'at', 'each', 'other', ',', 'drawing', 'all', 'eyes', 'onto', 'them', ',', 'for', 'harry', 'was', 'quite', 'sure', 'his', 'feet', 'and', 'ankles', 'had', 'been', 'revealed', 'as', 'the', 'cloak', 'had', 'flapped', 'around', 'them', ';', 'indeed', ',', 'for', 'one', 'horrible', 'moment', 'he', 'thought', 'he', 'saw', 'malfoy', '’', 's', 'eyes', 'follow', 'his', 'trainer', 'as', 'it', 'whipped', 'upward', 'out', 'of', 'sight', '.']\n",
      "['and', 'hermione', 'and', 'that', 'ravenclaw', 'prefect', 'were', 'found', 'with', 'a', 'mirror', 'next', 'to', 'them', '.']\n",
      "['harry', ',', 'ron', ',', 'hermione', ',', 'ginny', ',', 'woodley', ',', 'fred', 'and', 'george', ',', 'and', 'katie', 'bell', ',', 'were', 'the', 'first', 'out', 'of', 'the', 'castle', 'to', 'pelt', 'snowballs', 'at', 'each', 'other', '.']\n",
      "['graceful', 'arched', 'windows', 'punctuated', 'the', 'walls', ',', 'which', 'were', 'hung', 'with', 'blue-and-bronze', 'silks', ':', 'by', 'day', ',', 'the', 'ravenclaws', 'would', 'have', 'a', 'spectacular', 'view', 'of', 'the', 'surrounding', 'mountains', '.']\n",
      "['great', 'uncle', 'algie', 'was', 'so', 'pleased', 'he', 'bought', 'me', 'my', 'toad.', '”', 'on', 'harry', '’', 's', 'other', 'side', ',', 'percy', 'weasley', 'and', 'hermione', 'were', 'talking', 'about', 'lessons', '(', '“', 'i', 'do', 'hope', 'they', 'start', 'right', 'away', ',', 'there', '’', 's', 'so', 'much', 'to', 'learn', ',', 'i', '’', 'm', 'particularly', 'interested', 'in', 'transfiguration', ',', 'you', 'know', ',', 'turning', 'something', 'into', 'something', 'else', ',', 'of', 'course', ',', 'it', '’', 's', 'supposed', 'to', 'be', 'very', 'difficult', '—', '”', ';', '“', 'you', '’', 'll', 'be', 'starting', 'small', ',', 'just', 'matches', 'into', 'needles', 'and', 'that', 'sort', 'of', 'thing', '—', '”', ')', '.']\n",
      "['“', 'then', 'you', 'just', 'buck', 'up', 'your', 'ideas', ',', 'young', 'man', ',', 'before', 'i', 'decide', 'you', '’', 're', 'too', 'immature', 'to', 'come', 'with', 'us', '!', '”', 'said', 'mrs.', 'weasley', 'angrily', ',', 'snatching', 'up', 'her', 'clock', ',', 'all', 'nine', 'hands', 'of', 'which', 'were', 'still', 'pointing', 'at', '“', 'mortal', 'peril', ',', '”', 'and', 'balancing', 'it', 'on', 'top', 'of', 'a', 'pile', 'of', 'just-laundered', 'towels', '.']\n",
      "['and', 'i', 'pulled', 'out', 'my', 'wand', ',', 'and', 'he', 'pulled', 'out', 'his', ',', 'and', 'i', 'had', 'the', 'cruciatus', 'curse', 'used', 'on', 'me', 'by', 'my', 'brother', '’', 's', 'best', 'friend', '—', 'and', 'albus', 'was', 'trying', 'to', 'stop', 'him', ',', 'and', 'then', 'all', 'three', 'of', 'us', 'were', 'dueling', ',', 'and', 'the', 'flashing', 'lights', 'and', 'the', 'bangs', 'set', 'her', 'off', ',', 'she', 'couldn', '’', 't', 'stand', 'it', '—', '”', 'the', 'color', 'was', 'draining', 'from', 'aberforth', '’', 's', 'face', 'as', 'though', 'he', 'had', 'suffered', 'a', 'mortal', 'wound', '.']\n",
      "['charlie', 'was', 'built', 'like', 'the', 'twins', ',', 'shorter', 'and', 'stockier', 'than', 'percy', 'and', 'ron', ',', 'who', 'were', 'both', 'long', 'and', 'lanky', '.']\n",
      "['fred', 'and', 'george', 'had', 'long', 'since', 'disappeared', 'into', 'the', 'darkness', 'with', 'a', 'pair', 'of', 'fleur', '’', 's', 'cousins', ';', 'charlie', ',', 'hagrid', ',', 'and', 'a', 'squat', 'wizard', 'in', 'a', 'purple', 'porkpie', 'hat', 'were', 'singing', '“', 'odo', 'the', 'hero', '”', 'in', 'a', 'corner', '.']\n",
      "['a', 'kind', 'of', 'numbness', 'and', 'a', 'sense', 'of', 'complete', 'unreality', 'were', 'upon', 'him', ',', 'but', 'he', 'did', 'not', 'care', ';', 'he', 'was', 'even', 'glad', 'of', 'it', '.']\n",
      "['most', 'of', 'his', 'teeth', 'were', 'gone', '.']\n",
      "['his', 'breath', 'came', 'slow', 'and', 'deep', ',', 'and', 'his', 'mouth', 'and', 'throat', 'were', 'completely', 'dry', ',', 'but', 'so', 'were', 'his', 'eyes', '.']\n",
      "['the', 'man', '’', 's', 'scowling', ',', 'slightly', 'brutish', 'face', 'was', 'somehow', 'at', 'odds', 'with', 'his', 'magnificent', ',', 'sweeping', 'robes', ',', 'which', 'were', 'embroidered', 'with', 'much', 'gold', 'thread', '.']\n",
      "['ginny', 'and', 'demelza', 'were', 'already', 'wearing', 'their', 'quidditch', 'robes', 'and', 'waiting', 'in', 'the', 'changing', 'room', '.']\n",
      "['as', 'long', 'as', 'the', 'secret-keeper', 'refused', 'to', 'speak', ',', 'you-know-who', 'could', 'search', 'the', 'village', 'where', 'lily', 'and', 'james', 'were', 'staying', 'for', 'years', 'and', 'never', 'find', 'them', ',', 'not', 'even', 'if', 'he', 'had', 'his', 'nose', 'pressed', 'against', 'their', 'sitting-room', 'window', '!', '”', '“', 'so', 'black', 'was', 'the', 'potters', '’', 'secret-keeper', '?', '”', 'whispered', 'madam', 'rosmerta', '.']\n",
      "['as', 'griphook', 'had', 'already', 'warned', 'them', ',', 'the', 'liveried', 'goblins', 'who', 'usually', 'flanked', 'the', 'entrance', 'had', 'been', 'replaced', 'by', 'two', 'wizards', ',', 'both', 'of', 'whom', 'were', 'clutching', 'long', 'thin', 'golden', 'rods', '.']\n",
      "['ron', 'and', 'percy', 'were', 'next', 'door', 'to', 'harry', '.']\n",
      "['ron', 'and', 'hermione', 'had', 'lit', 'their', 'wands', 'too', ',', 'and', 'were', 'now', 'examining', 'the', 'piles', 'of', 'objects', 'surrounding', 'them', '.']\n",
      "['for', 'the', 'first', 'time', 'in', 'months', ',', 'he', 'perused', 'the', 'old', 'pictures', 'of', 'his', 'parents', ',', 'smiling', 'and', 'waving', 'up', 'at', 'him', 'from', 'the', 'images', ',', 'which', 'were', 'all', 'he', 'had', 'left', 'of', 'them', 'now', '.']\n",
      "['the', 'students', 'who', 'had', 'already', 'arrived', 'were', 'sitting', 'on', 'the', 'earthy', 'floor', 'with', 'their', 'backs', 'resting', 'against', 'tree', 'trunks', 'or', 'boulders', ',', 'arms', 'wrapped', 'around', 'their', 'knees', 'or', 'folded', 'tightly', 'across', 'their', 'chests', ',', 'looking', 'rather', 'nervous', '.']\n",
      "['harry', 'wished', 'his', 'scar', 'would', 'burn', 'and', 'show', 'him', 'voldemort', '’', 's', 'thoughts', ',', 'because', 'for', 'the', 'first', 'time', 'ever', ',', 'he', 'and', 'voldemort', 'were', 'united', 'in', 'wanting', 'the', 'very', 'same', 'thing', '.']\n",
      "['the', 'figures', 'of', 'tonks', ',', 'lupin', ',', 'moody', ',', 'and', 'mr.', 'and', 'mrs.', 'weasley', 'shrank', 'rapidly', 'but', 'the', 'black', 'dog', 'was', 'bounding', 'alongside', 'the', 'window', ',', 'wagging', 'its', 'tail', ';', 'blurred', 'people', 'on', 'the', 'platform', 'were', 'laughing', 'to', 'see', 'it', 'chasing', 'the', 'train', ',', 'and', 'then', 'they', 'turned', 'the', 'corner', ',', 'and', 'sirius', 'was', 'gone', '.']\n",
      "['but', 'there', 'were', 'no', 'lights', 'in', 'the', 'castle', 'windows', ',', 'and', 'he', 'could', 'conceal', 'himself', '.']\n",
      "['he', 'and', 'ron', 'followed', 'hermione', 'down', 'a', 'flight', 'of', 'stone', 'steps', ',', 'but', 'instead', 'of', 'ending', 'up', 'in', 'a', 'gloomy', 'underground', 'passage', 'like', 'the', 'one', 'that', 'led', 'to', 'snape', '’', 's', 'dungeon', ',', 'they', 'found', 'themselves', 'in', 'a', 'broad', 'stone', 'corridor', ',', 'brightly', 'lit', 'with', 'torches', ',', 'and', 'decorated', 'with', 'cheerful', 'paintings', 'that', 'were', 'mainly', 'of', 'food', '.']\n",
      "['and', 'now', 'it', 'was', 'as', 'if', 'draco', 'and', 'ginny', 'were', 'making', 'up', 'for', 'the', 'friendliness', 'they', '’', 'd', 'experienced', 'during', 'christmas', ',', 'by', 'avoiding', 'each', 'other', 'as', 'much', 'as', 'possible', ',', 'and', 'barely', 'speaking', 'when', 'they', 'held', 'their', 'morning', 'duelling', 'sessions', '.']\n",
      "['“', 'have', 'you', 'seen', 'what', 'they', '’', 're', 'sitting', 'on', '?', '”', 'harry', 'looked', 'more', 'closely', 'and', 'realized', 'that', 'what', 'he', 'had', 'thought', 'were', 'decoratively', 'carved', 'thrones', 'were', 'actually', 'mounds', 'of', 'carved', 'humans', ':', 'hundreds', 'and', 'hundreds', 'of', 'naked', 'bodies', ',', 'men', ',', 'women', ',', 'and', 'children', ',', 'all', 'with', 'rather', 'stupid', ',', 'ugly', 'faces', ',', 'twisted', 'and', 'pressed', 'together', 'to', 'support', 'the', 'weight', 'of', 'the', 'handsomely', 'robed', 'wizards', '.']\n",
      "['nowadays', ',', 'however', ',', 'his', 'scar', 'hardly', 'ever', 'stopped', 'prickling', ',', 'and', 'he', 'often', 'felt', 'lurches', 'of', 'annoyance', 'or', 'cheerfulness', 'that', 'were', 'unrelated', 'to', 'what', 'was', 'happening', 'to', 'him', 'at', 'the', 'time', ',', 'which', 'were', 'always', 'accompanied', 'by', 'a', 'particularly', 'painful', 'twinge', 'from', 'his', 'scar', '.']\n",
      "['ten', 'minutes', 'later', 'they', 'had', 'wrenched', 'their', 'way', 'through', 'the', 'boarded-up', 'doors', 'and', 'were', 'in', 'the', 'car', ',', 'speeding', 'toward', 'the', 'highway', '.']\n",
      "['each', 'had', 'replied', 'promptly', 'that', 'such', 'a', 'case', 'was', 'not', 'possible', 'to', 'happen', 'in', 'the', 'first', 'place', 'and', 'were', 'quite', 'curious', 'as', 'to', 'why', 'dumbledore', 'would', 'enquire', 'such', 'a', 'thing', '.']\n",
      "['not', 'only', 'were', 'there', 'a', 'dozen', 'frost-covered', 'christmas', 'trees', 'and', 'thick', 'streamers', 'of', 'holly', 'and', 'mistletoe', 'crisscrossing', 'the', 'ceiling', ',', 'but', 'enchanted', 'snow', 'was', 'falling', ',', 'warm', 'and', 'dry', ',', 'from', 'the', 'ceiling', '.']\n",
      "['he', 'was', 'carrying', 'this.', '”', 'snape', 'pointed', 'at', 'the', 'parchment', ',', 'on', 'which', 'the', 'words', 'of', 'messrs.', 'moony', ',', 'wormtail', ',', 'padfoot', ',', 'and', 'prongs', 'were', 'still', 'shining', '.']\n",
      "['his', 'face', 'was', 'covered', 'in', 'darkness', 'and', 'all', 'she', 'could', 'make', 'out', 'were', 'his', 'flashing', 'eyes', 'glaring', 'at', 'her', '.']\n",
      "['several', 'seats', 'down', 'from', 'them', ',', 'fred', 'and', 'george', 'were', 'leaning', 'forward', ',', 'staring', 'at', 'dumbledore', 'with', 'great', 'concentration', '.']\n",
      "['the', 'letters', 'from', 'the', 'ministry', ',', 'mr.', 'weasley', ',', 'and', 'sirius', 'were', 'crushed', 'in', 'his', 'left', 'hand', '.']\n",
      "['he', 'didn', '’', 't', 'have', 'to', 'know', 'how', 'many', 'galleons', 'there', 'were', 'to', 'a', 'pound', 'to', 'know', 'that', 'he', 'was', 'holding', 'more', 'money', 'than', 'he', '’', 'd', 'had', 'in', 'his', 'whole', 'life', '—', 'more', 'money', 'than', 'even', 'dudley', 'had', 'ever', 'had', '.']\n",
      "['unnoticed', 'by', 'any', 'of', 'the', 'people', 'around', 'his', 'bed', ',', 'all', 'of', 'whom', 'were', 'staring', 'at', 'the', 'door', 'as', 'bill', 'pulled', 'back', 'the', 'screens', ',', 'harry', 'sat', 'up', 'and', 'put', 'his', 'glasses', 'back', 'on', '.']\n",
      "['but', 'there', 'were', 'around', 'a', 'dozen', 'doors', 'here', '.']\n",
      "['but', 'then', 'a', 'lot', 'of', 'people', 'who', 'were', 'against', 'the', 'dark', 'side', '.']\n",
      "['i', '’', 'm', 'not', 'worth', 'that', '!', '”', 'chapter', 'seven', 'the', 'boggart', 'in', 'the', 'wardrobe', 'malfoy', 'didn', '’', 't', 'reappear', 'in', 'classes', 'until', 'late', 'on', 'thursday', 'morning', ',', 'when', 'the', 'slytherins', 'and', 'gryffindors', 'were', 'halfway', 'through', 'double', 'potions', '.']\n",
      "['the', 'two', 'giants', 'crashed', 'along', 'behind', 'the', 'death', 'eaters', ';', 'harry', 'could', 'hear', 'trees', 'creaking', 'and', 'falling', 'as', 'they', 'passed', ';', 'they', 'made', 'so', 'much', 'din', 'that', 'birds', 'rose', 'shrieking', 'into', 'the', 'sky', ',', 'and', 'even', 'the', 'jeers', 'of', 'the', 'death', 'eaters', 'were', 'drowned', '.']\n",
      "['gone', 'were', 'the', 'tapered', 'precise', 'fingers', ',', 'made', 'steady', 'from', 'holding', 'potion', 'ingredients', 'hours', 'upon', 'end', '.']\n",
      "['she', 'was', 'wearing', 'a', 'set', 'of', 'spangled', 'silver', 'robes', 'that', 'were', 'attracting', 'a', 'certain', 'amount', 'of', 'giggles', 'from', 'the', 'onlookers', ',', 'but', 'otherwise', 'she', 'looked', 'quite', 'nice', '.']\n",
      "['.', '”', 'people', 'around', 'them', 'were', 'drifting', 'away', ',', 'still', 'talking', 'excitedly', 'about', 'what', 'they', 'had', 'just', 'seen', '.']\n",
      "['neighborhood', 'children', 'all', 'around', 'were', 'terrified', 'of', 'him', '—', 'even', 'more', 'terrified', 'than', 'they', 'were', 'of', '“', 'that', 'potter', 'boy', ',', '”', 'who', ',', 'they', 'had', 'been', 'warned', ',', 'was', 'a', 'hardened', 'hooligan', 'who', 'attended', 'st.', 'brutus', '’', 's', 'secure', 'center', 'for', 'incurably', 'criminal', 'boys', '.']\n",
      "['the', 'house', 'tables', 'had', 'vanished', ';', 'instead', ',', 'there', 'were', 'about', 'a', 'hundred', 'smaller', ',', 'lantern-lit', 'ones', ',', 'each', 'seating', 'about', 'a', 'dozen', 'people', '.']\n",
      "['hagrid', 'was', 'sitting', 'in', 'an', 'armchair', 'outside', 'his', 'house', ';', 'his', 'trousers', 'and', 'sleeves', 'were', 'rolled', 'up', ',', 'and', 'he', 'was', 'shelling', 'peas', 'into', 'a', 'large', 'bowl', '.']\n",
      "['parvati', 'and', 'padma', 'were', 'now', 'sitting', 'at', 'a', 'distant', 'table', 'with', 'a', 'whole', 'crowd', 'of', 'beauxbatons', 'boys', ',', 'and', 'hermione', 'was', 'once', 'more', 'dancing', 'with', 'krum', '.']\n"
     ]
    }
   ],
   "source": [
    "for s in lwere:\n",
    "    print(s)"
   ]
  },
  {
   "cell_type": "code",
   "execution_count": 509,
   "metadata": {},
   "outputs": [],
   "source": [
    "bad_lwere = x2y(lwere, 'were','are')\n",
    "unk_lwere = x2y(lwere, 'were','be')"
   ]
  },
  {
   "cell_type": "code",
   "execution_count": 510,
   "metadata": {},
   "outputs": [
    {
     "name": "stdout",
     "output_type": "stream",
     "text": [
      "blue-and-bronze and silks are 2 consecutive unk word in ['with', 'blue-and-bronze', 'silks']\n",
      "blue-and-bronze and silks are 2 consecutive unk word in ['with', 'blue-and-bronze', 'silks']\n",
      "Good avg log_prob is : -75.9\n",
      "Bad avg log_prob is : -89.39\n",
      "\n",
      "-----------------PERPLEXITY-------------------\n",
      "\n",
      "good Perplexity is : 21.01\n",
      "bad Perplexity is : 34.68\n",
      "98 out of 100 are correct predictions\n",
      "blue-and-bronze and silks are 2 consecutive unk word in ['with', 'blue-and-bronze', 'silks']\n",
      "blue-and-bronze and silks are 2 consecutive unk word in ['with', 'blue-and-bronze', 'silks']\n",
      "Good avg log_prob is : -75.9\n",
      "Bad avg log_prob is : -91.85\n",
      "\n",
      "-----------------PERPLEXITY-------------------\n",
      "\n",
      "good Perplexity is : 21.01\n",
      "bad Perplexity is : 38.52\n",
      "100 out of 100 are correct predictions\n"
     ]
    },
    {
     "data": {
      "text/plain": [
       "[]"
      ]
     },
     "execution_count": 510,
     "metadata": {},
     "output_type": "execute_result"
    }
   ],
   "source": [
    "compare_sets(lwere,bad_lwere,root)\n",
    "compare_sets(lwere,unk_lwere,root)"
   ]
  },
  {
   "cell_type": "code",
   "execution_count": 508,
   "metadata": {},
   "outputs": [],
   "source": [
    "# f = open(\"were_sentences.txt\", \"w\")\n",
    "# for i,s in enumerate(sent2write):\n",
    "#     f.write(f'{i}\\n'+str(s)+'\\n')\n",
    "# f.close()"
   ]
  },
  {
   "cell_type": "markdown",
   "metadata": {},
   "source": [
    "# Experiment on **be sentences**"
   ]
  },
  {
   "cell_type": "code",
   "execution_count": 435,
   "metadata": {},
   "outputs": [
    {
     "name": "stdout",
     "output_type": "stream",
     "text": [
      "286\n"
     ]
    }
   ],
   "source": [
    "filename='be_sentences'\n",
    "infile = open(filename,'rb')\n",
    "be_sentences=pickle.load(infile)\n",
    "infile.close()\n",
    "print(len(be_sentences))"
   ]
  },
  {
   "cell_type": "code",
   "execution_count": 436,
   "metadata": {},
   "outputs": [],
   "source": [
    "be_sent2write = []\n",
    "for s in be_sentences:\n",
    "    be_id = s.index('be')\n",
    "    if (s[be_id-1]=='to' or\n",
    "        s[be_id-1]=='should' or\n",
    "        s[be_id-1]=='must' or\n",
    "        s[be_id-1]=='would' or\n",
    "        s[be_id-1]=='will' or\n",
    "        s[be_id-1]=='shall' or\n",
    "        s[be_id-1]=='ll' or\n",
    "        s[be_id-1]=='\\'' or\n",
    "        s[be_id-1]=='t' or\n",
    "        s[be_id-1]=='not' or\n",
    "        s[be_id-1]=='d' or\n",
    "        s[be_id-1]=='might' or\n",
    "        s[be_id-1]=='may' or\n",
    "        s[be_id-1]=='can' or\n",
    "        s[be_id-1]=='could'):\n",
    "        continue\n",
    "    else:\n",
    "            be_sent2write.append(s)\n",
    "    "
   ]
  },
  {
   "cell_type": "code",
   "execution_count": 438,
   "metadata": {},
   "outputs": [
    {
     "name": "stdout",
     "output_type": "stream",
     "text": [
      "32\n"
     ]
    }
   ],
   "source": [
    "print(len(be_sent2write))"
   ]
  },
  {
   "cell_type": "code",
   "execution_count": 440,
   "metadata": {},
   "outputs": [],
   "source": [
    "non_local_dependency_be_sentence_index =  [\n",
    "    0,1,2,4,5,6,7,8,9,10,11,12,13,14,15,16,17,21,23,24,26,27,28,29,30,31\n",
    "]\n",
    "lbe = []\n",
    "for i in non_local_dependency_be_sentence_index:\n",
    "#     print(is_sentences[i])\n",
    "    lbe.append(be_sent2write[i])"
   ]
  },
  {
   "cell_type": "code",
   "execution_count": 443,
   "metadata": {},
   "outputs": [
    {
     "name": "stdout",
     "output_type": "stream",
     "text": [
      "26\n"
     ]
    }
   ],
   "source": [
    "print(len(lbe))"
   ]
  },
  {
   "cell_type": "code",
   "execution_count": 448,
   "metadata": {},
   "outputs": [],
   "source": [
    "bad_lbe = x2y(lbe, 'be','out')\n",
    "unk_lbe = x2y(lbe, 'be','was')"
   ]
  },
  {
   "cell_type": "code",
   "execution_count": 449,
   "metadata": {},
   "outputs": [
    {
     "name": "stdout",
     "output_type": "stream",
     "text": [
      "Good avg log_prob is : -56.01\n",
      "Bad avg log_prob is : -71.89\n",
      "\n",
      "-----------------PERPLEXITY-------------------\n",
      "\n",
      "good Perplexity is : 17.83\n",
      "bad Perplexity is : 42.32\n",
      "25 out of 26 are correct predictions\n",
      "Good avg log_prob is : -56.01\n",
      "Bad avg log_prob is : -70.46\n",
      "\n",
      "-----------------PERPLEXITY-------------------\n",
      "\n",
      "good Perplexity is : 17.83\n",
      "bad Perplexity is : 40.32\n",
      "26 out of 26 are correct predictions\n"
     ]
    },
    {
     "data": {
      "text/plain": [
       "[]"
      ]
     },
     "execution_count": 449,
     "metadata": {},
     "output_type": "execute_result"
    }
   ],
   "source": [
    "compare_sets(lbe,bad_lbe,root)\n",
    "compare_sets(lbe,unk_lbe,root)"
   ]
  },
  {
   "cell_type": "code",
   "execution_count": 418,
   "metadata": {},
   "outputs": [],
   "source": [
    "# f = open(\"be_sentences.txt\", \"w\")\n",
    "# for i,s in enumerate(sent2write):\n",
    "#     f.write(f'{i}\\n'+str(s)+'\\n')\n",
    "# f.close()"
   ]
  },
  {
   "cell_type": "code",
   "execution_count": 419,
   "metadata": {},
   "outputs": [],
   "source": [
    "bad_be_sentences = x2y(be_sentences, 'be','out')\n",
    "unk_be_sentences = x2y(be_sentences, 'be','are')"
   ]
  },
  {
   "cell_type": "code",
   "execution_count": 227,
   "metadata": {},
   "outputs": [
    {
     "name": "stdout",
     "output_type": "stream",
     "text": [
      "horseback and head-juggling are 2 consecutive unk word in ['as', 'horseback', 'head-juggling']\n",
      "horseback and head-juggling are 2 consecutive unk word in ['as', 'horseback', 'head-juggling']\n",
      "Good avg log_prob is : -75.57\n",
      "Bad avg log_prob is : -90.3\n",
      "\n",
      "-----------------PERPLEXITY-------------------\n",
      "\n",
      "good Perplexity is : 25.92\n",
      "bad Perplexity is : 58.11\n",
      "284 out of 286 are correct predictions\n"
     ]
    },
    {
     "data": {
      "text/plain": [
       "[152, 164]"
      ]
     },
     "execution_count": 227,
     "metadata": {},
     "output_type": "execute_result"
    }
   ],
   "source": [
    "compare_sets(be_sentences,bad_be_sentences,root)"
   ]
  },
  {
   "cell_type": "markdown",
   "metadata": {},
   "source": [
    "# Experiment on **have sentences**"
   ]
  },
  {
   "cell_type": "code",
   "execution_count": 99,
   "metadata": {},
   "outputs": [],
   "source": [
    "for w in ['has','have','harry']:\n",
    "    show_unigram_prob(root,w)"
   ]
  },
  {
   "cell_type": "code",
   "execution_count": 100,
   "metadata": {},
   "outputs": [
    {
     "name": "stdout",
     "output_type": "stream",
     "text": [
      "233\n"
     ]
    }
   ],
   "source": [
    "filename='have_sentences'\n",
    "infile = open(filename,'rb')\n",
    "have_sentences=pickle.load(infile)\n",
    "infile.close()\n",
    "print(len(have_sentences))"
   ]
  },
  {
   "cell_type": "code",
   "execution_count": 149,
   "metadata": {},
   "outputs": [],
   "source": [
    "bad_have_sentences = x2y(have_sentences, 'have','had')\n",
    "unk_have_sentences = x2y(have_sentences,'have','we')"
   ]
  },
  {
   "cell_type": "code",
   "execution_count": 150,
   "metadata": {},
   "outputs": [],
   "source": [
    "# comparative_sent_printing(has_sentences, have_sentences)"
   ]
  },
  {
   "cell_type": "code",
   "execution_count": 151,
   "metadata": {},
   "outputs": [
    {
     "name": "stdout",
     "output_type": "stream",
     "text": [
      "blue-and-bronze and silks are 2 consecutive unk word in ['with', 'blue-and-bronze', 'silks']\n",
      "blue-and-bronze and silks are 2 consecutive unk word in ['with', 'blue-and-bronze', 'silks']\n",
      "Good avg log_prob is : -74.07\n",
      "Bad avg log_prob is : -84.76\n",
      "\n",
      "-----------------PERPLEXITY-------------------\n",
      "\n",
      "good Perplexity is : 19.3\n",
      "bad Perplexity is : 29.77\n",
      "230 out of 233 are correct predictions\n"
     ]
    }
   ],
   "source": [
    "index_have = compare_sets(have_sentences, bad_have_sentences,root)"
   ]
  },
  {
   "cell_type": "code",
   "execution_count": 108,
   "metadata": {},
   "outputs": [],
   "source": [
    "for i in index_have:\n",
    "    print(have_sentences[i])"
   ]
  },
  {
   "cell_type": "markdown",
   "metadata": {},
   "source": [
    "**Result one: Trigram can capture local dependecy (gap_size == 0)**"
   ]
  },
  {
   "cell_type": "code",
   "execution_count": 110,
   "metadata": {},
   "outputs": [
    {
     "name": "stdout",
     "output_type": "stream",
     "text": [
      "blue-and-bronze and silks are 2 consecutive unk word in ['with', 'blue-and-bronze', 'silks']\n",
      "blue-and-bronze and silks are 2 consecutive unk word in ['with', 'blue-and-bronze', 'silks']\n",
      "Good avg log_prob is : -74.07\n",
      "Bad avg log_prob is : -88.27\n",
      "\n",
      "-----------------PERPLEXITY-------------------\n",
      "\n",
      "good Perplexity is : 19.3\n",
      "bad Perplexity is : 37.18\n",
      "233 out of 233 are correct predictions\n"
     ]
    },
    {
     "data": {
      "text/plain": [
       "[]"
      ]
     },
     "execution_count": 110,
     "metadata": {},
     "output_type": "execute_result"
    }
   ],
   "source": [
    "compare_sets(have_sentences, unk_have_sentences,root)"
   ]
  },
  {
   "cell_type": "markdown",
   "metadata": {},
   "source": [
    "# Experiment on **has sentences**"
   ]
  },
  {
   "cell_type": "code",
   "execution_count": 111,
   "metadata": {},
   "outputs": [
    {
     "name": "stdout",
     "output_type": "stream",
     "text": [
      "49\n"
     ]
    }
   ],
   "source": [
    "filename='has_sentences'\n",
    "infile = open(filename,'rb')\n",
    "has_sentences=pickle.load(infile)\n",
    "infile.close()\n",
    "print(len(has_sentences))"
   ]
  },
  {
   "cell_type": "code",
   "execution_count": 152,
   "metadata": {},
   "outputs": [],
   "source": [
    "bad_has_sentences = x2y(has_sentences, 'has','had')\n",
    "unk_has_sentences = x2y(has_sentences,'has','might')"
   ]
  },
  {
   "cell_type": "code",
   "execution_count": 153,
   "metadata": {},
   "outputs": [
    {
     "name": "stdout",
     "output_type": "stream",
     "text": [
      "Good avg log_prob is : -66.42\n",
      "Bad avg log_prob is : -75.64\n",
      "\n",
      "-----------------PERPLEXITY-------------------\n",
      "\n",
      "good Perplexity is : 13.48\n",
      "bad Perplexity is : 19.39\n",
      "45 out of 49 are correct predictions\n"
     ]
    },
    {
     "data": {
      "text/plain": [
       "[30, 33, 34, 48]"
      ]
     },
     "execution_count": 153,
     "metadata": {},
     "output_type": "execute_result"
    }
   ],
   "source": [
    "compare_sets(has_sentences, bad_has_sentences,root)"
   ]
  },
  {
   "cell_type": "code",
   "execution_count": 126,
   "metadata": {},
   "outputs": [
    {
     "name": "stdout",
     "output_type": "stream",
     "text": [
      "Good avg log_prob is : -66.42\n",
      "Bad avg log_prob is : -81.38\n",
      "\n",
      "-----------------PERPLEXITY-------------------\n",
      "\n",
      "good Perplexity is : 13.48\n",
      "bad Perplexity is : 31.04\n",
      "49 out of 49 are correct predictions\n"
     ]
    },
    {
     "data": {
      "text/plain": [
       "[]"
      ]
     },
     "execution_count": 126,
     "metadata": {},
     "output_type": "execute_result"
    }
   ],
   "source": [
    "compare_sets(has_sentences, unk_has_sentences,root)"
   ]
  },
  {
   "cell_type": "code",
   "execution_count": 115,
   "metadata": {},
   "outputs": [],
   "source": [
    "# comparative_sent_printing(has_sentences[40:49],bad_has_sentences[40:49])"
   ]
  },
  {
   "cell_type": "markdown",
   "metadata": {},
   "source": [
    "# Experiment on **his sentences**"
   ]
  },
  {
   "cell_type": "code",
   "execution_count": 116,
   "metadata": {},
   "outputs": [],
   "source": [
    "for w in ['his','her']:\n",
    "    show_unigram_prob(root,w)"
   ]
  },
  {
   "cell_type": "code",
   "execution_count": 117,
   "metadata": {},
   "outputs": [
    {
     "name": "stdout",
     "output_type": "stream",
     "text": [
      "764\n"
     ]
    }
   ],
   "source": [
    "filename='his_sentences'\n",
    "infile = open(filename,'rb')\n",
    "his_sentences=pickle.load(infile)\n",
    "infile.close()\n",
    "print(len(his_sentences))"
   ]
  },
  {
   "cell_type": "code",
   "execution_count": 118,
   "metadata": {},
   "outputs": [],
   "source": [
    "bad_his_sentences = x2y(his_sentences, 'his','her')\n",
    "unk_his_sentences = x2y(his_sentences,'his','_unk_')"
   ]
  },
  {
   "cell_type": "code",
   "execution_count": 121,
   "metadata": {},
   "outputs": [
    {
     "name": "stdout",
     "output_type": "stream",
     "text": [
      "introductory and spiel are 2 consecutive unk word in ['his', 'introductory', 'spiel']\n",
      "introductory and spiel are 2 consecutive unk word in ['her', 'introductory', 'spiel']\n",
      "Good avg log_prob is : -75.33\n",
      "Bad avg log_prob is : -86.12\n",
      "\n",
      "-----------------PERPLEXITY-------------------\n",
      "\n",
      "good Perplexity is : 17.82\n",
      "bad Perplexity is : 29.74\n",
      "741 out of 764 are correct predictions\n"
     ]
    }
   ],
   "source": [
    "index_his = compare_sets(his_sentences,bad_his_sentences,root)"
   ]
  },
  {
   "cell_type": "code",
   "execution_count": 122,
   "metadata": {},
   "outputs": [
    {
     "name": "stdout",
     "output_type": "stream",
     "text": [
      "[58, 87, 105, 116, 129, 139, 203, 218, 237, 258, 264, 279, 336, 409, 469, 475, 524, 662, 686, 693, 744, 753, 755]\n"
     ]
    }
   ],
   "source": [
    "print(index_his)"
   ]
  },
  {
   "cell_type": "code",
   "execution_count": 44,
   "metadata": {},
   "outputs": [
    {
     "name": "stdout",
     "output_type": "stream",
     "text": [
      "{'__COUNT__': 4, 'her': {'__COUNT__': 2}, 'his': {'__COUNT__': 1}, 'off': {'__COUNT__': 1}}\n"
     ]
    }
   ],
   "source": [
    "print(root[',']['biting'])"
   ]
  },
  {
   "cell_type": "code",
   "execution_count": 45,
   "metadata": {},
   "outputs": [
    {
     "name": "stdout",
     "output_type": "stream",
     "text": [
      "59 ,['he', 'turned', 'around', 'to', 'be', 'met', 'with', 'a', 'wet', 'splat', 'of', 'mud', 'on', 'the', 'front', 'of', 'his', 'robes', '.']\n",
      "59 ,['he', 'turned', 'around', 'to', 'be', 'met', 'with', 'a', 'wet', 'splat', 'of', 'mud', 'on', 'the', 'front', 'of', 'her', 'robes', '.']\n",
      "83 ,['you', '’', 're', 'already', 'stronger', 'than', 'most', 'boys', 'yer', 'age.', '”', 'snape', 'gritted', 'his', 'teeth', 'and', 'threw', 'his', 'own', 'boulder', 'down', 'indignantly', '.']\n",
      "83 ,['you', '’', 're', 'already', 'stronger', 'than', 'most', 'boys', 'yer', 'age.', '”', 'snape', 'gritted', 'her', 'teeth', 'and', 'threw', 'her', 'own', 'boulder', 'down', 'indignantly', '.']\n"
     ]
    }
   ],
   "source": [
    "for each in [59,83]:\n",
    "    print(f'{each} ,{his_sentences[each]}')\n",
    "    print(f'{each} ,{bad_his_sentences[each]}')"
   ]
  },
  {
   "cell_type": "code",
   "execution_count": 46,
   "metadata": {},
   "outputs": [
    {
     "data": {
      "image/png": "[encoded data removed]",
      "text/plain": [
       "<Figure size 1080x720 with 2 Axes>"
      ]
     },
     "metadata": {
      "needs_background": "dark"
     },
     "output_type": "display_data"
    },
    {
     "name": "stdout",
     "output_type": "stream",
     "text": [
      "================\t===============\t===============\t===============\t===============\t\n",
      "\n",
      "This is a plot illustrating how the probability of the test sentence: \n",
      "\n",
      " ['pushing', 'his', 'way', 'through', 'the', 'brambles', ',', 'severus', 'was', 'soon', 'crossing', 'the', 'short', 'grass', 'of', 'the', 'grounds', 'once', 'more', '.']\n",
      "\n",
      "and its miminal pair: \n",
      "\n",
      "['pushing', 'her', 'way', 'through', 'the', 'brambles', ',', 'severus', 'was', 'soon', 'crossing', 'the', 'short', 'grass', 'of', 'the', 'grounds', 'once', 'more', '.'] \n",
      "\n",
      "declines as the the algorithm process each word\n"
     ]
    }
   ],
   "source": [
    "plot_minimal_pair(his_sentences[109],bad_his_sentences[109],root, AssignProbSent)"
   ]
  },
  {
   "cell_type": "code",
   "execution_count": 63,
   "metadata": {},
   "outputs": [],
   "source": [
    "# plot_minimal_pair(his_sentences[110],bad_his_sentences[110],root, AssignProbSent)"
   ]
  },
  {
   "cell_type": "code",
   "execution_count": 48,
   "metadata": {},
   "outputs": [
    {
     "name": "stdout",
     "output_type": "stream",
     "text": [
      "introductory and spiel are 2 consecutive unk word in ['his', 'introductory', 'spiel']\n",
      "_unk_ and introductory are 2 consecutive unk word in ['continued', '_unk_', 'introductory']\n",
      "introductory and spiel are 2 consecutive unk word in ['_unk_', 'introductory', 'spiel']\n",
      "Good avg log_prob is : -75.33\n",
      "Bad avg log_prob is : -95.16\n",
      "\n",
      "-----------------PERPLEXITY-------------------\n",
      "\n",
      "good Perplexity is : 17.82\n",
      "bad Perplexity is : 50.3\n",
      "763 out of 764 are correct predictions\n"
     ]
    },
    {
     "data": {
      "text/plain": [
       "[493]"
      ]
     },
     "execution_count": 48,
     "metadata": {},
     "output_type": "execute_result"
    }
   ],
   "source": [
    "compare_sets(his_sentences,unk_his_sentences,root)"
   ]
  },
  {
   "cell_type": "markdown",
   "metadata": {},
   "source": [
    "# Experiment on **her sentences**"
   ]
  },
  {
   "cell_type": "code",
   "execution_count": 49,
   "metadata": {},
   "outputs": [
    {
     "name": "stdout",
     "output_type": "stream",
     "text": [
      "328\n"
     ]
    }
   ],
   "source": [
    "filename='her_sentences'\n",
    "infile = open(filename,'rb')\n",
    "her_sentences=pickle.load(infile)\n",
    "infile.close()\n",
    "print(len(her_sentences))"
   ]
  },
  {
   "cell_type": "code",
   "execution_count": 50,
   "metadata": {},
   "outputs": [],
   "source": [
    "bad_her_sentences = x2y(her_sentences,'her','his')\n",
    "unk_her_sentences = x2y(her_sentences,'her','_unk_')"
   ]
  },
  {
   "cell_type": "code",
   "execution_count": 51,
   "metadata": {},
   "outputs": [
    {
     "name": "stdout",
     "output_type": "stream",
     "text": [
      "Good avg log_prob is : -71.35\n",
      "Bad avg log_prob is : -82.16\n",
      "\n",
      "-----------------PERPLEXITY-------------------\n",
      "\n",
      "good Perplexity is : 15.55\n",
      "bad Perplexity is : 24.13\n",
      "301 out of 328 are correct predictions\n"
     ]
    }
   ],
   "source": [
    "her_index = compare_sets(her_sentences, bad_her_sentences, root)"
   ]
  },
  {
   "cell_type": "code",
   "execution_count": 52,
   "metadata": {},
   "outputs": [
    {
     "name": "stdout",
     "output_type": "stream",
     "text": [
      "Sentence No.7:\n",
      " ['he', '’', 's', 'such', 'a', 'prat', ',', 'it', '’', 's', 'not', 'really', 'a', 'loss', ',', 'is', 'it', '?', '”', 'mrs.', 'weasley', 'sobbed', 'harder', 'than', 'ever', 'as', 'she', 'enfolded', 'harry', 'in', 'her', 'arms', '.'],\n",
      "['he', '’', 's', 'such', 'a', 'prat', ',', 'it', '’', 's', 'not', 'really', 'a', 'loss', ',', 'is', 'it', '?', '”', 'mrs.', 'weasley', 'sobbed', 'harder', 'than', 'ever', 'as', 'she', 'enfolded', 'harry', 'in', 'his', 'arms', '.']\n",
      "\n",
      "\n",
      "Sentence No.11:\n",
      " ['i', 'mean', ',', 'all', 'these', 'funny', 'instructions', ',', 'who', 'knows', '?', '”', '“', 'hey', '!', '”', 'said', 'harry', 'indignantly', ',', 'as', 'she', 'pulled', 'his', 'copy', 'of', 'advanced', 'potion-making', 'out', 'of', 'his', 'bag', 'and', 'raised', 'her', 'wand', '.'],\n",
      "['i', 'mean', ',', 'all', 'these', 'funny', 'instructions', ',', 'who', 'knows', '?', '”', '“', 'hey', '!', '”', 'said', 'harry', 'indignantly', ',', 'as', 'she', 'pulled', 'his', 'copy', 'of', 'advanced', 'potion-making', 'out', 'of', 'his', 'bag', 'and', 'raised', 'his', 'wand', '.']\n",
      "\n",
      "\n",
      "Sentence No.17:\n",
      " ['.', '”', 'professor', 'mcgonagall', 'cleared', 'her', 'throat', 'loudly', '.'],\n",
      "['.', '”', 'professor', 'mcgonagall', 'cleared', 'his', 'throat', 'loudly', '.']\n",
      "\n",
      "\n",
      "Sentence No.18:\n",
      " ['kneeling', 'slowly', 'by', 'the', 'stream', ',', 'she', 'started', 'to', 'wash', 'her', 'face', '.'],\n",
      "['kneeling', 'slowly', 'by', 'the', 'stream', ',', 'she', 'started', 'to', 'wash', 'his', 'face', '.']\n",
      "\n",
      "\n",
      "Sentence No.36:\n",
      " ['she', 'wouldn', '’', 't', 'use', 'magic', ',', 'but', 'she', 'couldn', '’', 't', 'get', 'rid', 'of', 'it', ';', 'it', 'turned', 'inward', 'and', 'drove', 'her', 'mad', ',', 'it', 'exploded', 'out', 'of', 'her', 'when', 'she', 'couldn', '’', 't', 'control', 'it', ',', 'and', 'at', 'times', 'she', 'was', 'strange', 'and', 'dangerous', '.'],\n",
      "['she', 'wouldn', '’', 't', 'use', 'magic', ',', 'but', 'she', 'couldn', '’', 't', 'get', 'rid', 'of', 'it', ';', 'it', 'turned', 'inward', 'and', 'drove', 'his', 'mad', ',', 'it', 'exploded', 'out', 'of', 'his', 'when', 'she', 'couldn', '’', 't', 'control', 'it', ',', 'and', 'at', 'times', 'she', 'was', 'strange', 'and', 'dangerous', '.']\n",
      "\n",
      "\n",
      "Sentence No.55:\n",
      " ['you', 'know', ',', 'i', 'presume', ',', 'that', 'it', 'was', 'on', 'the', 'dark', 'lord', '’', 's', 'orders', 'that', 'i', 'took', 'up', 'the', 'post', '?', '”', 'she', 'nodded', 'almost', 'imperceptibly', 'and', 'then', 'opened', 'her', 'mouth', ',', 'but', 'snape', 'forestalled', 'her', '.'],\n",
      "['you', 'know', ',', 'i', 'presume', ',', 'that', 'it', 'was', 'on', 'the', 'dark', 'lord', '’', 's', 'orders', 'that', 'i', 'took', 'up', 'the', 'post', '?', '”', 'she', 'nodded', 'almost', 'imperceptibly', 'and', 'then', 'opened', 'his', 'mouth', ',', 'but', 'snape', 'forestalled', 'his', '.']\n",
      "\n",
      "\n",
      "Sentence No.58:\n",
      " ['“', 'and', 'look', ',', 'broderick', ',', 'you', '’', 've', 'been', 'sent', 'a', 'potted', 'plant', 'and', 'a', 'lovely', 'calendar', 'with', 'a', 'different', 'fancy', 'hippogriff', 'for', 'each', 'month', ',', 'they', '’', 'll', 'brighten', 'things', 'up', ',', 'won', '’', 't', 'they', '?', '”', 'said', 'the', 'healer', ',', 'bustling', 'along', 'to', 'the', 'mumbling', 'man', ',', 'setting', 'a', 'rather', 'ugly', 'plant', 'with', 'long', ',', 'swaying', 'tentacles', 'on', 'the', 'bedside', 'cabinet', 'and', 'fixing', 'the', 'calendar', 'to', 'the', 'wall', 'with', 'her', 'wand', '.'],\n",
      "['“', 'and', 'look', ',', 'broderick', ',', 'you', '’', 've', 'been', 'sent', 'a', 'potted', 'plant', 'and', 'a', 'lovely', 'calendar', 'with', 'a', 'different', 'fancy', 'hippogriff', 'for', 'each', 'month', ',', 'they', '’', 'll', 'brighten', 'things', 'up', ',', 'won', '’', 't', 'they', '?', '”', 'said', 'the', 'healer', ',', 'bustling', 'along', 'to', 'the', 'mumbling', 'man', ',', 'setting', 'a', 'rather', 'ugly', 'plant', 'with', 'long', ',', 'swaying', 'tentacles', 'on', 'the', 'bedside', 'cabinet', 'and', 'fixing', 'the', 'calendar', 'to', 'the', 'wall', 'with', 'his', 'wand', '.']\n",
      "\n",
      "\n",
      "Sentence No.67:\n",
      " ['“', 'okay', ',', '”', 'she', 'said', ',', 'her', 'brow', 'furrowed', 'as', 'she', 'continued', 'to', 'pace', '.'],\n",
      "['“', 'okay', ',', '”', 'she', 'said', ',', 'his', 'brow', 'furrowed', 'as', 'she', 'continued', 'to', 'pace', '.']\n",
      "\n",
      "\n",
      "Sentence No.99:\n",
      " ['“', 'i', '’', 'm', 'going', 'to', 'bed', ',', '”', 'said', 'angelina', ',', 'getting', 'slowly', 'to', 'her', 'feet', '.'],\n",
      "['“', 'i', '’', 'm', 'going', 'to', 'bed', ',', '”', 'said', 'angelina', ',', 'getting', 'slowly', 'to', 'his', 'feet', '.']\n",
      "\n",
      "\n",
      "Sentence No.100:\n",
      " ['she', 'finally', 'reached', 'the', 'edge', 'of', 'the', 'pitch', 'and', 'pulled', 'out', 'her', 'wand', ',', 'but', 'it', 'was', 'too', 'late', '.'],\n",
      "['she', 'finally', 'reached', 'the', 'edge', 'of', 'the', 'pitch', 'and', 'pulled', 'out', 'his', 'wand', ',', 'but', 'it', 'was', 'too', 'late', '.']\n",
      "\n",
      "\n",
      "Sentence No.102:\n",
      " ['hermione', 'crawled', 'out', 'from', 'underneath', 'the', 'bench', ',', 'shaking', 'bits', 'of', 'glass', 'ashtray', 'out', 'of', 'her', 'hair', 'and', 'trembling', 'all', 'over', '.'],\n",
      "['hermione', 'crawled', 'out', 'from', 'underneath', 'the', 'bench', ',', 'shaking', 'bits', 'of', 'glass', 'ashtray', 'out', 'of', 'his', 'hair', 'and', 'trembling', 'all', 'over', '.']\n",
      "\n",
      "\n",
      "Sentence No.124:\n",
      " ['“', 'draco', ',', '”', 'she', 'began', ',', 'forcing', 'her', 'voice', 'not', 'to', 'waver', 'and', 'looking', 'him', 'directly', 'in', 'the', 'eyes', '.'],\n",
      "['“', 'draco', ',', '”', 'she', 'began', ',', 'forcing', 'his', 'voice', 'not', 'to', 'waver', 'and', 'looking', 'him', 'directly', 'in', 'the', 'eyes', '.']\n",
      "\n",
      "\n",
      "Sentence No.128:\n",
      " ['“', 'well', '—', 'my', 'uncle', 'more', 'than', 'her', '.'],\n",
      "['“', 'well', '—', 'my', 'uncle', 'more', 'than', 'his', '.']\n",
      "\n",
      "\n",
      "Sentence No.134:\n",
      " ['professor', 'mcgonagall', 'took', 'it', 'from', 'him', ',', 'frowning', ',', 'slit', 'it', 'open', 'with', 'a', 'tap', 'of', 'her', 'wand', ',', 'stretched', 'it', 'out', ',', 'and', 'began', 'to', 'read', '.'],\n",
      "['professor', 'mcgonagall', 'took', 'it', 'from', 'him', ',', 'frowning', ',', 'slit', 'it', 'open', 'with', 'a', 'tap', 'of', 'his', 'wand', ',', 'stretched', 'it', 'out', ',', 'and', 'began', 'to', 'read', '.']\n",
      "\n",
      "\n",
      "Sentence No.136:\n",
      " ['“', 'i', 'still', 'dream', 'about', 'him', 'at', 'night', ',', 'and', 'i', 'think', 'i', 'always', 'will.', '”', 'draco', 'thought', 'back', 'to', 'the', 'night', 'in', 'the', 'forbidden', 'forest', 'when', 'she', 'had', 'whispered', 'potter', '’', 's', 'name', 'in', 'her', 'sleep', '.'],\n",
      "['“', 'i', 'still', 'dream', 'about', 'him', 'at', 'night', ',', 'and', 'i', 'think', 'i', 'always', 'will.', '”', 'draco', 'thought', 'back', 'to', 'the', 'night', 'in', 'the', 'forbidden', 'forest', 'when', 'she', 'had', 'whispered', 'potter', '’', 's', 'name', 'in', 'his', 'sleep', '.']\n",
      "\n",
      "\n",
      "Sentence No.141:\n",
      " ['she', 'said', 'she', 'thought', 'we', '’', 'd', 'stolen', 'it.', '”', '“', 'ah', ',', 'she', 'eez', 'charmante', ',', 'your', 'aunt', ',', '”', 'said', 'fleur', 'crossly', ',', 'waving', 'her', 'wand', 'and', 'causing', 'the', 'dirty', 'plates', 'to', 'rise', 'and', 'form', 'a', 'stack', 'in', 'midair', '.'],\n",
      "['she', 'said', 'she', 'thought', 'we', '’', 'd', 'stolen', 'it.', '”', '“', 'ah', ',', 'she', 'eez', 'charmante', ',', 'your', 'aunt', ',', '”', 'said', 'fleur', 'crossly', ',', 'waving', 'his', 'wand', 'and', 'causing', 'the', 'dirty', 'plates', 'to', 'rise', 'and', 'form', 'a', 'stack', 'in', 'midair', '.']\n",
      "\n",
      "\n",
      "Sentence No.153:\n",
      " ['hermione', ',', 'however', ',', 'leaned', 'against', 'the', 'owlery', 'wall', ',', 'folded', 'her', 'arms', ',', 'and', 'frowned', 'at', 'ron', '.'],\n",
      "['hermione', ',', 'however', ',', 'leaned', 'against', 'the', 'owlery', 'wall', ',', 'folded', 'his', 'arms', ',', 'and', 'frowned', 'at', 'ron', '.']\n",
      "\n",
      "\n",
      "Sentence No.158:\n",
      " ['“', 'see', '—', 'he', '’', 's', 'my', 'brother', '!', '”', 'hermione', 'simply', 'stared', 'at', 'him', ',', 'her', 'mouth', 'open', '.'],\n",
      "['“', 'see', '—', 'he', '’', 's', 'my', 'brother', '!', '”', 'hermione', 'simply', 'stared', 'at', 'him', ',', 'his', 'mouth', 'open', '.']\n",
      "\n",
      "\n",
      "Sentence No.171:\n",
      " ['“', 'what', 'do', 'you', 'think', 'you', 'are', 'doing', '?', '”', '“', 'oh', 'damn', ',', '”', 'whispered', 'ginny', ',', 'jumping', 'to', 'her', 'feet', '.'],\n",
      "['“', 'what', 'do', 'you', 'think', 'you', 'are', 'doing', '?', '”', '“', 'oh', 'damn', ',', '”', 'whispered', 'ginny', ',', 'jumping', 'to', 'his', 'feet', '.']\n",
      "\n",
      "\n",
      "Sentence No.176:\n",
      " ['what', 'country', '?', '”', '“', 'well', ',', 'nobody', 'knows', ',', 'do', 'they', '?', '”', 'said', 'hermione', ',', 'raising', 'her', 'eyebrows', '.'],\n",
      "['what', 'country', '?', '”', '“', 'well', ',', 'nobody', 'knows', ',', 'do', 'they', '?', '”', 'said', 'hermione', ',', 'raising', 'his', 'eyebrows', '.']\n",
      "\n",
      "\n",
      "Sentence No.177:\n",
      " ['that', 'lesson', 'was', 'absolute', 'rubbish', 'compared', 'with', 'my', 'arithmancy', 'class', '!', '”', 'she', 'snatched', 'up', 'her', 'bag', 'and', 'stalked', 'away', '.'],\n",
      "['that', 'lesson', 'was', 'absolute', 'rubbish', 'compared', 'with', 'my', 'arithmancy', 'class', '!', '”', 'she', 'snatched', 'up', 'his', 'bag', 'and', 'stalked', 'away', '.']\n",
      "\n",
      "\n",
      "Sentence No.192:\n",
      " ['her', 'gaze', 'also', 'faltered', 'towards', 'severus', 'snape', 'and', 'draco', 'made', 'no', 'move', 'to', 'free', 'her', '.'],\n",
      "['his', 'gaze', 'also', 'faltered', 'towards', 'severus', 'snape', 'and', 'draco', 'made', 'no', 'move', 'to', 'free', 'his', '.']\n",
      "\n",
      "\n",
      "Sentence No.221:\n",
      " ['“', 'i', 'wonder', 'if', 'anyone', 'noticed', 'us', 'missing…', '”', 'draco', 'followed', 'her', 'gaze', 'and', 'scowled', '.'],\n",
      "['“', 'i', 'wonder', 'if', 'anyone', 'noticed', 'us', 'missing…', '”', 'draco', 'followed', 'his', 'gaze', 'and', 'scowled', '.']\n",
      "\n",
      "\n",
      "Sentence No.226:\n",
      " ['as', 'she', 'was', 'not', 'much', 'taller', 'standing', 'than', 'sitting', ',', 'there', 'was', 'a', 'moment', 'when', 'nobody', 'understood', 'why', 'dumbledore', 'had', 'stopped', 'talking', ',', 'but', 'then', 'professor', 'umbridge', 'said', ',', '“', 'hem', ',', 'hem', ',', '”', 'and', 'it', 'became', 'clear', 'that', 'she', 'had', 'got', 'to', 'her', 'feet', 'and', 'was', 'intending', 'to', 'make', 'a', 'speech', '.'],\n",
      "['as', 'she', 'was', 'not', 'much', 'taller', 'standing', 'than', 'sitting', ',', 'there', 'was', 'a', 'moment', 'when', 'nobody', 'understood', 'why', 'dumbledore', 'had', 'stopped', 'talking', ',', 'but', 'then', 'professor', 'umbridge', 'said', ',', '“', 'hem', ',', 'hem', ',', '”', 'and', 'it', 'became', 'clear', 'that', 'she', 'had', 'got', 'to', 'his', 'feet', 'and', 'was', 'intending', 'to', 'make', 'a', 'speech', '.']\n",
      "\n",
      "\n",
      "Sentence No.271:\n",
      " ['“', 'you', '’', 're', 'early', ',', 'hagrid', ',', '”', 'professor', 'mcgonagall', 'said', 'quite', 'pointedly', 'to', 'him', ',', 'making', 'her', 'way', 'past', 'the', 'older', 'students', 'to', 'look', 'at', 'him', 'rather', 'severely', '.'],\n",
      "['“', 'you', '’', 're', 'early', ',', 'hagrid', ',', '”', 'professor', 'mcgonagall', 'said', 'quite', 'pointedly', 'to', 'him', ',', 'making', 'his', 'way', 'past', 'the', 'older', 'students', 'to', 'look', 'at', 'him', 'rather', 'severely', '.']\n",
      "\n",
      "\n",
      "Sentence No.280:\n",
      " ['“', 'thank', 'you', 'for', 'that', 'entirely', 'pointless', 'comment', ',', 'snape', ',', '”', 'replied', 'garwood', 'dryly', ',', 'holding', 'up', 'her', 'hands', 'for', 'silence', '.'],\n",
      "['“', 'thank', 'you', 'for', 'that', 'entirely', 'pointless', 'comment', ',', 'snape', ',', '”', 'replied', 'garwood', 'dryly', ',', 'holding', 'up', 'his', 'hands', 'for', 'silence', '.']\n",
      "\n",
      "\n",
      "Sentence No.325:\n",
      " ['“', 'and', 'why', 'didn', '’', 't', 'you', 'stop', 'her', '?'],\n",
      "['“', 'and', 'why', 'didn', '’', 't', 'you', 'stop', 'his', '?']\n",
      "\n",
      "\n"
     ]
    }
   ],
   "source": [
    "for i in her_index:\n",
    "    print(f'Sentence No.{i}:\\n {her_sentences[i]},\\n{bad_her_sentences[i]}\\n\\n')"
   ]
  },
  {
   "cell_type": "code",
   "execution_count": 53,
   "metadata": {},
   "outputs": [
    {
     "name": "stdout",
     "output_type": "stream",
     "text": [
      "Sentence No.227:\n",
      " ['“', 'and', 'yet', 'she', 'was', 'never', 'taken', 'to', 'st.', 'mungo', '’', 's', 'and', 'no', 'healer', 'was', 'ever', 'summoned', 'to', 'see', 'her', '!', '”', '“', 'really', ',', 'muriel', ',', 'how', 'you', 'can', 'possibly', 'know', 'whether', '—', '”', '“', 'for', 'your', 'information', ',', 'elphias', ',', 'my', 'cousin', 'lancelot', 'was', 'a', 'healer', 'at', 'st.', 'mungo', '’', 's', 'at', 'the', 'time', ',', 'and', 'he', 'told', 'my', 'family', 'in', 'strictest', 'confidence', 'that', 'ariana', 'had', 'never', 'been', 'seen', 'there', '.'],\n",
      "['“', 'and', 'yet', 'she', 'was', 'never', 'taken', 'to', 'st.', 'mungo', '’', 's', 'and', 'no', 'healer', 'was', 'ever', 'summoned', 'to', 'see', 'his', '!', '”', '“', 'really', ',', 'muriel', ',', 'how', 'you', 'can', 'possibly', 'know', 'whether', '—', '”', '“', 'for', 'your', 'information', ',', 'elphias', ',', 'my', 'cousin', 'lancelot', 'was', 'a', 'healer', 'at', 'st.', 'mungo', '’', 's', 'at', 'the', 'time', ',', 'and', 'he', 'told', 'my', 'family', 'in', 'strictest', 'confidence', 'that', 'ariana', 'had', 'never', 'been', 'seen', 'there', '.']\n",
      "\n",
      "\n",
      "Sentence No.228:\n",
      " ['winky', 'showed', 'her', 'inside', 'and', 'returned', 'to', 'the', 'kitchen', ',', 'to', 'me', '.'],\n",
      "['winky', 'showed', 'his', 'inside', 'and', 'returned', 'to', 'the', 'kitchen', ',', 'to', 'me', '.']\n",
      "\n",
      "\n",
      "Sentence No.229:\n",
      " ['he', 'watched', 'some', 'of', 'the', 'foul', 'kittens', 'gamboling', 'around', 'the', 'plates', 'over', 'her', 'head', ',', 'wondering', 'what', 'fresh', 'horror', 'she', 'had', 'in', 'store', 'for', 'him', '.'],\n",
      "['he', 'watched', 'some', 'of', 'the', 'foul', 'kittens', 'gamboling', 'around', 'the', 'plates', 'over', 'his', 'head', ',', 'wondering', 'what', 'fresh', 'horror', 'she', 'had', 'in', 'store', 'for', 'him', '.']\n",
      "\n",
      "\n",
      "Sentence No.230:\n",
      " ['“', 'generations', 'of', 'students', 'have', 'badgered', 'me', '—', '”', '“', 'this', 'isn', '’', 't', 'about', 'trying', 'to', 'get', 'better', 'marks', '!', '”', 'harry', 'shouted', 'at', 'her', '.'],\n",
      "['“', 'generations', 'of', 'students', 'have', 'badgered', 'me', '—', '”', '“', 'this', 'isn', '’', 't', 'about', 'trying', 'to', 'get', 'better', 'marks', '!', '”', 'harry', 'shouted', 'at', 'his', '.']\n",
      "\n",
      "\n",
      "Sentence No.231:\n",
      " ['snape', 'smiled', 'to', 'himself', 'as', 'he', 'remember', 'her', 'chasing', 'him', 'around', 'the', 'hogwarts', 'grounds', ',', 'only', 'to', 'grab', 'a', 'pile', 'of', 'robes', 'with', 'dumbledore', '’', 's', 'name', 'on', 'them', '.'],\n",
      "['snape', 'smiled', 'to', 'himself', 'as', 'he', 'remember', 'his', 'chasing', 'him', 'around', 'the', 'hogwarts', 'grounds', ',', 'only', 'to', 'grab', 'a', 'pile', 'of', 'robes', 'with', 'dumbledore', '’', 's', 'name', 'on', 'them', '.']\n",
      "\n",
      "\n",
      "Sentence No.232:\n",
      " ['“', 'don', '’', 't', 'be', 'scared', ',', 'dear', ',', 'don', '’', 't', 'be', 'frightened', ',', '”', 'said', 'professor', 'umbridge', 'softly', ',', 'patting', 'her', 'on', 'the', 'back', ',', '“', 'it', '’', 's', 'quite', 'all', 'right', ',', 'now', '.'],\n",
      "['“', 'don', '’', 't', 'be', 'scared', ',', 'dear', ',', 'don', '’', 't', 'be', 'frightened', ',', '”', 'said', 'professor', 'umbridge', 'softly', ',', 'patting', 'his', 'on', 'the', 'back', ',', '“', 'it', '’', 's', 'quite', 'all', 'right', ',', 'now', '.']\n",
      "\n",
      "\n",
      "Sentence No.233:\n",
      " ['except', 'for', 'one', 'outburst', 'years', 'ago', ',', 'in', 'the', 'course', 'of', 'which', 'aunt', 'petunia', 'had', 'screamed', 'that', 'harry', '’', 's', 'mother', 'had', 'been', 'a', 'freak', ',', 'he', 'had', 'never', 'heard', 'her', 'mention', 'her', 'sister', '.'],\n",
      "['except', 'for', 'one', 'outburst', 'years', 'ago', ',', 'in', 'the', 'course', 'of', 'which', 'aunt', 'petunia', 'had', 'screamed', 'that', 'harry', '’', 's', 'mother', 'had', 'been', 'a', 'freak', ',', 'he', 'had', 'never', 'heard', 'his', 'mention', 'his', 'sister', '.']\n",
      "\n",
      "\n",
      "Sentence No.234:\n",
      " ['tears', 'were', 'pouring', 'from', 'her', 'eyes', 'into', 'her', 'hair', '.'],\n",
      "['tears', 'were', 'pouring', 'from', 'his', 'eyes', 'into', 'his', 'hair', '.']\n",
      "\n",
      "\n",
      "Sentence No.235:\n",
      " ['she', 'was', 'looking', 'into', 'a', 'small', 'jeweled', 'mirror', 'and', 'dabbing', 'rouge', 'onto', 'her', 'already', 'scarlet', 'cheeks', 'with', 'a', 'large', 'powder', 'puff', ',', 'while', 'the', 'tiniest', 'and', 'oldest', 'house-elf', 'harry', 'had', 'ever', 'seen', 'laced', 'her', 'fleshy', 'feet', 'into', 'tight', 'satin', 'slippers', '.'],\n",
      "['she', 'was', 'looking', 'into', 'a', 'small', 'jeweled', 'mirror', 'and', 'dabbing', 'rouge', 'onto', 'his', 'already', 'scarlet', 'cheeks', 'with', 'a', 'large', 'powder', 'puff', ',', 'while', 'the', 'tiniest', 'and', 'oldest', 'house-elf', 'harry', 'had', 'ever', 'seen', 'laced', 'his', 'fleshy', 'feet', 'into', 'tight', 'satin', 'slippers', '.']\n",
      "\n",
      "\n",
      "Sentence No.236:\n",
      " ['“', 'what', 'about', 'her', '?', '”', 'said', 'ron', '.'],\n",
      "['“', 'what', 'about', 'his', '?', '”', 'said', 'ron', '.']\n",
      "\n",
      "\n",
      "Sentence No.237:\n",
      " ['professor', 'sprout', '’', 's', 'eyebrows', 'had', 'disappeared', 'into', 'her', 'flyaway', 'hair', ',', 'and', 'professor', 'mcgonagall', '’', 's', 'mouth', 'was', 'as', 'thin', 'as', 'harry', 'had', 'ever', 'seen', 'it', '.'],\n",
      "['professor', 'sprout', '’', 's', 'eyebrows', 'had', 'disappeared', 'into', 'his', 'flyaway', 'hair', ',', 'and', 'professor', 'mcgonagall', '’', 's', 'mouth', 'was', 'as', 'thin', 'as', 'harry', 'had', 'ever', 'seen', 'it', '.']\n",
      "\n",
      "\n",
      "Sentence No.238:\n",
      " ['they', 'leaned', 'out', 'of', 'the', 'window', 'for', 'her', 'to', 'kiss', 'them', 'good-bye', ',', 'and', 'their', 'younger', 'sister', 'began', 'to', 'cry', '.'],\n",
      "['they', 'leaned', 'out', 'of', 'the', 'window', 'for', 'his', 'to', 'kiss', 'them', 'good-bye', ',', 'and', 'their', 'younger', 'sister', 'began', 'to', 'cry', '.']\n",
      "\n",
      "\n",
      "Sentence No.239:\n",
      " ['she', 'glanced', 'swiftly', 'and', 'suspiciously', 'around', 'at', 'her', 'inquisitorial', 'squad', ',', 'her', 'bulging', 'eyes', 'resting', 'for', 'a', 'moment', 'on', 'malfoy', ',', 'who', 'was', 'too', 'slow', 'to', 'disguise', 'the', 'look', 'of', 'eagerness', 'and', 'greed', 'that', 'had', 'appeared', 'on', 'his', 'face', '.'],\n",
      "['she', 'glanced', 'swiftly', 'and', 'suspiciously', 'around', 'at', 'his', 'inquisitorial', 'squad', ',', 'his', 'bulging', 'eyes', 'resting', 'for', 'a', 'moment', 'on', 'malfoy', ',', 'who', 'was', 'too', 'slow', 'to', 'disguise', 'the', 'look', 'of', 'eagerness', 'and', 'greed', 'that', 'had', 'appeared', 'on', 'his', 'face', '.']\n",
      "\n",
      "\n",
      "Sentence No.240:\n",
      " ['while', 'the', 'knives', 'sliced', 'away', 'behind', 'her', ',', 'her', 'somewhat', 'irritable', 'expression', 'softened', '.'],\n",
      "['while', 'the', 'knives', 'sliced', 'away', 'behind', 'his', ',', 'his', 'somewhat', 'irritable', 'expression', 'softened', '.']\n",
      "\n",
      "\n",
      "Sentence No.241:\n",
      " ['hermione', 'glanced', 'from', 'ginny', '’', 's', 'rigid', 'expression', 'and', 'back', 'down', 'to', 'her', 'books', 'before', 'she', 'doggedly', 'ploughed', 'on', '.'],\n",
      "['hermione', 'glanced', 'from', 'ginny', '’', 's', 'rigid', 'expression', 'and', 'back', 'down', 'to', 'his', 'books', 'before', 'she', 'doggedly', 'ploughed', 'on', '.']\n",
      "\n",
      "\n",
      "Sentence No.242:\n",
      " ['it', 'seemed', 'as', 'if', 'everyone', 'had', 'best', 'friends', 'to', 'fall', 'back', 'on', 'except', 'for', 'her', '.'],\n",
      "['it', 'seemed', 'as', 'if', 'everyone', 'had', 'best', 'friends', 'to', 'fall', 'back', 'on', 'except', 'for', 'his', '.']\n",
      "\n",
      "\n",
      "Sentence No.243:\n",
      " ['“', 'i', 'can', '’', 't', 'wait', 'to', 'see', 'that', 'match.', '”', '“', 'why', '’', 's', 'that', '?', '”', 'asked', 'draco', 'idly', ',', 'giving', 'her', 'a', 'slight', 'scowl', '.'],\n",
      "['“', 'i', 'can', '’', 't', 'wait', 'to', 'see', 'that', 'match.', '”', '“', 'why', '’', 's', 'that', '?', '”', 'asked', 'draco', 'idly', ',', 'giving', 'his', 'a', 'slight', 'scowl', '.']\n",
      "\n",
      "\n",
      "Sentence No.244:\n",
      " ['strict', 'and', 'clever', ',', 'she', 'gave', 'them', 'a', 'talking-to', 'the', 'moment', 'they', 'sat', 'down', 'in', 'her', 'first', 'class', '.'],\n",
      "['strict', 'and', 'clever', ',', 'she', 'gave', 'them', 'a', 'talking-to', 'the', 'moment', 'they', 'sat', 'down', 'in', 'his', 'first', 'class', '.']\n",
      "\n",
      "\n",
      "Sentence No.245:\n",
      " ['women', ',', '”', 'he', 'said', 'wisely', 'to', 'harry', ',', '“', 'they', '’', 're', 'easily', 'upset.', '”', '“', 'and', 'yet', ',', '”', 'said', 'hermione', ',', 'coming', 'out', 'of', 'her', 'reverie', ',', '“', 'i', 'doubt', 'you', '’', 'd', 'find', 'a', 'woman', 'who', 'sulked', 'for', 'half', 'an', 'hour', 'because', 'madam', 'rosmerta', 'didn', '’', 't', 'laugh', 'at', 'their', 'joke', 'about', 'the', 'hag', ',', 'the', 'healer', ',', 'and', 'the', 'mimbulus', 'mimbletonia.', '”', 'ron', 'scowled', '.'],\n",
      "['women', ',', '”', 'he', 'said', 'wisely', 'to', 'harry', ',', '“', 'they', '’', 're', 'easily', 'upset.', '”', '“', 'and', 'yet', ',', '”', 'said', 'hermione', ',', 'coming', 'out', 'of', 'his', 'reverie', ',', '“', 'i', 'doubt', 'you', '’', 'd', 'find', 'a', 'woman', 'who', 'sulked', 'for', 'half', 'an', 'hour', 'because', 'madam', 'rosmerta', 'didn', '’', 't', 'laugh', 'at', 'their', 'joke', 'about', 'the', 'hag', ',', 'the', 'healer', ',', 'and', 'the', 'mimbulus', 'mimbletonia.', '”', 'ron', 'scowled', '.']\n",
      "\n",
      "\n",
      "Sentence No.246:\n",
      " ['and', 'in', 'case', 'you', 'haven', '’', 't', 'noticed', ',', 'we', '’', 've', 'found', 'one', 'horcrux', '—', '”', '“', 'yeah', ',', 'and', 'we', '’', 're', 'about', 'as', 'near', 'getting', 'rid', 'of', 'it', 'as', 'we', 'are', 'to', 'finding', 'the', 'rest', 'of', 'them', '—', 'nowhere', 'effing', 'near', ',', 'in', 'other', 'words', '!', '”', '“', 'take', 'off', 'the', 'locket', ',', 'ron', ',', '”', 'hermione', 'said', ',', 'her', 'voice', 'unusually', 'high', '.'],\n",
      "['and', 'in', 'case', 'you', 'haven', '’', 't', 'noticed', ',', 'we', '’', 've', 'found', 'one', 'horcrux', '—', '”', '“', 'yeah', ',', 'and', 'we', '’', 're', 'about', 'as', 'near', 'getting', 'rid', 'of', 'it', 'as', 'we', 'are', 'to', 'finding', 'the', 'rest', 'of', 'them', '—', 'nowhere', 'effing', 'near', ',', 'in', 'other', 'words', '!', '”', '“', 'take', 'off', 'the', 'locket', ',', 'ron', ',', '”', 'hermione', 'said', ',', 'his', 'voice', 'unusually', 'high', '.']\n",
      "\n",
      "\n",
      "Sentence No.247:\n",
      " ['“', 'i', 'just', 'asked', 'her', 'if', 'she', '’', 'd', 'seen', 'anything', 'odd', ',', 'and', 'she', 'started', 'to', 'say', '—', '”', '“', 'oh', '—', 'that', '—', 'that', '’', 's', 'nothing', 'to', 'do', 'with', 'the', 'chamber', 'of', 'secrets', ',', '”', 'said', 'percy', 'at', 'once', '.'],\n",
      "['“', 'i', 'just', 'asked', 'his', 'if', 'she', '’', 'd', 'seen', 'anything', 'odd', ',', 'and', 'she', 'started', 'to', 'say', '—', '”', '“', 'oh', '—', 'that', '—', 'that', '’', 's', 'nothing', 'to', 'do', 'with', 'the', 'chamber', 'of', 'secrets', ',', '”', 'said', 'percy', 'at', 'once', '.']\n",
      "\n",
      "\n",
      "Sentence No.248:\n",
      " ['they', 'had', 'almost', 'reached', 'the', 'highway', 'when', 'ginny', 'shrieked', 'that', 'she', '’', 'd', 'left', 'her', 'diary', '.'],\n",
      "['they', 'had', 'almost', 'reached', 'the', 'highway', 'when', 'ginny', 'shrieked', 'that', 'she', '’', 'd', 'left', 'his', 'diary', '.']\n",
      "\n",
      "\n",
      "Sentence No.249:\n",
      " ['parvati', 'looked', 'scornfully', 'over', 'her', 'shoulder', 'at', 'him', '.'],\n",
      "['parvati', 'looked', 'scornfully', 'over', 'his', 'shoulder', 'at', 'him', '.']\n",
      "\n",
      "\n",
      "Sentence No.250:\n",
      " ['he', 'couldn', '’', 't', 'understand', 'why', 'the', 'cat', 'kept', 'following', 'him', 'around', ',', 'mrs', 'norris', 'had', 'never', 'particularly', 'taken', 'to', 'him', 'before', 'her', 'transformation', '.'],\n",
      "['he', 'couldn', '’', 't', 'understand', 'why', 'the', 'cat', 'kept', 'following', 'him', 'around', ',', 'mrs', 'norris', 'had', 'never', 'particularly', 'taken', 'to', 'him', 'before', 'his', 'transformation', '.']\n",
      "\n",
      "\n",
      "Sentence No.251:\n",
      " ['“', 'dementors', '?', '”', 'said', 'madam', 'bones', 'after', 'a', 'moment', ',', 'raising', 'her', 'thick', 'eyebrows', 'so', 'that', 'her', 'monocle', 'looked', 'in', 'danger', 'of', 'falling', 'out', '.'],\n",
      "['“', 'dementors', '?', '”', 'said', 'madam', 'bones', 'after', 'a', 'moment', ',', 'raising', 'his', 'thick', 'eyebrows', 'so', 'that', 'his', 'monocle', 'looked', 'in', 'danger', 'of', 'falling', 'out', '.']\n",
      "\n",
      "\n",
      "Sentence No.252:\n",
      " ['“', 'how', 'are', 'you', 'both', 'feeling', '?', '”', 'she', 'asked', 'tentatively', ',', 'her', 'eyes', 'on', 'the', 'back', 'of', 'ron', '’', 's', 'head', '.'],\n",
      "['“', 'how', 'are', 'you', 'both', 'feeling', '?', '”', 'she', 'asked', 'tentatively', ',', 'his', 'eyes', 'on', 'the', 'back', 'of', 'ron', '’', 's', 'head', '.']\n",
      "\n",
      "\n",
      "Sentence No.253:\n",
      " ['“', 'i', 'promised', 'her', 'and', 'ginny', 'that', 'if', 'you', 'turned', 'up', 'i', '’', 'd', 'let', 'them', 'know', '.'],\n",
      "['“', 'i', 'promised', 'his', 'and', 'ginny', 'that', 'if', 'you', 'turned', 'up', 'i', '’', 'd', 'let', 'them', 'know', '.']\n",
      "\n",
      "\n",
      "Sentence No.254:\n",
      " ['“', 'who', 'is', 'this', 'person', '?', '”', 'harry', 'asked', 'her', ',', 'pushing', 'the', 'picture', 'forward', '.'],\n",
      "['“', 'who', 'is', 'this', 'person', '?', '”', 'harry', 'asked', 'his', ',', 'pushing', 'the', 'picture', 'forward', '.']\n",
      "\n",
      "\n",
      "Sentence No.255:\n",
      " ['that', 'symbol', 'doesn', '’', 't', 'mean', 'anything', ',', 'forget', 'the', 'deathly', 'hallows', ',', 'we', 'can', '’', 't', 'afford', 'to', 'get', 'sidetracked', '—', '”', 'harry', 'was', 'barely', 'listening', 'to', 'her', '.'],\n",
      "['that', 'symbol', 'doesn', '’', 't', 'mean', 'anything', ',', 'forget', 'the', 'deathly', 'hallows', ',', 'we', 'can', '’', 't', 'afford', 'to', 'get', 'sidetracked', '—', '”', 'harry', 'was', 'barely', 'listening', 'to', 'his', '.']\n",
      "\n",
      "\n",
      "Sentence No.256:\n",
      " ['uncle', 'vernon', '’', 's', 'face', 'purpled', 'once', 'more', ',', 'and', 'aunt', 'petunia', 'started', 'chewing', 'her', 'tongue', 'again', '.'],\n",
      "['uncle', 'vernon', '’', 's', 'face', 'purpled', 'once', 'more', ',', 'and', 'aunt', 'petunia', 'started', 'chewing', 'his', 'tongue', 'again', '.']\n",
      "\n",
      "\n",
      "Sentence No.257:\n",
      " ['bathilda', 'also', 'parrots', 'the', 'family', 'line', 'on', 'ariana', ',', 'calling', 'her', '“', 'frail', '”', 'and', '“', 'delicate.', '”', 'on', 'one', 'subject', ',', 'however', ',', 'bathilda', 'is', 'well', 'worth', 'the', 'effort', 'i', 'put', 'into', 'procuring', 'veritaserum', ',', 'for', 'she', ',', 'and', 'she', 'alone', ',', 'knows', 'the', 'full', 'story', 'of', 'the', 'best-kept', 'secret', 'of', 'albus', 'dumbledore', '’', 's', 'life', '.'],\n",
      "['bathilda', 'also', 'parrots', 'the', 'family', 'line', 'on', 'ariana', ',', 'calling', 'his', '“', 'frail', '”', 'and', '“', 'delicate.', '”', 'on', 'one', 'subject', ',', 'however', ',', 'bathilda', 'is', 'well', 'worth', 'the', 'effort', 'i', 'put', 'into', 'procuring', 'veritaserum', ',', 'for', 'she', ',', 'and', 'she', 'alone', ',', 'knows', 'the', 'full', 'story', 'of', 'the', 'best-kept', 'secret', 'of', 'albus', 'dumbledore', '’', 's', 'life', '.']\n",
      "\n",
      "\n",
      "Sentence No.258:\n",
      " ['i', '’', 'd', 'find', 'myself', 'somewhere', 'and', 'not', 'know', 'how', 'i', 'got', 'there.', '”', 'harry', 'hardly', 'dared', 'believe', 'her', ',', 'yet', 'his', 'heart', 'was', 'lightening', 'almost', 'in', 'spite', 'of', 'himself', '.'],\n",
      "['i', '’', 'd', 'find', 'myself', 'somewhere', 'and', 'not', 'know', 'how', 'i', 'got', 'there.', '”', 'harry', 'hardly', 'dared', 'believe', 'his', ',', 'yet', 'his', 'heart', 'was', 'lightening', 'almost', 'in', 'spite', 'of', 'himself', '.']\n",
      "\n",
      "\n",
      "Sentence No.259:\n",
      " ['she', 'ran', 'her', 'fingers', 'through', 'her', 'hair', 'again', ',', 'and', 'then', 'held', 'her', 'hand', 'up', 'to', 'her', 'mouth', ',', 'as', 'though', 'speaking', 'into', 'an', 'invisible', 'walkie-talkie', '.'],\n",
      "['she', 'ran', 'his', 'fingers', 'through', 'his', 'hair', 'again', ',', 'and', 'then', 'held', 'his', 'hand', 'up', 'to', 'his', 'mouth', ',', 'as', 'though', 'speaking', 'into', 'an', 'invisible', 'walkie-talkie', '.']\n",
      "\n",
      "\n",
      "Sentence No.260:\n",
      " ['if', 'there', '’', 's', 'something', 'wrong', 'with', 'the', 'bitch', ',', 'there', '’', 'll', 'be', 'something', 'wrong', 'with', 'the', 'pup', '—', '”', 'at', 'that', 'moment', ',', 'the', 'wineglass', 'aunt', 'marge', 'was', 'holding', 'exploded', 'in', 'her', 'hand', '.'],\n",
      "['if', 'there', '’', 's', 'something', 'wrong', 'with', 'the', 'bitch', ',', 'there', '’', 'll', 'be', 'something', 'wrong', 'with', 'the', 'pup', '—', '”', 'at', 'that', 'moment', ',', 'the', 'wineglass', 'aunt', 'marge', 'was', 'holding', 'exploded', 'in', 'his', 'hand', '.']\n",
      "\n",
      "\n",
      "Sentence No.261:\n",
      " ['you', 'had', 'no', 'right', 'to', 'do', 'that', '!', '”', 'she', 'said', ',', 'and', 'her', 'voice', 'trembled', 'slightly', '.'],\n",
      "['you', 'had', 'no', 'right', 'to', 'do', 'that', '!', '”', 'she', 'said', ',', 'and', 'his', 'voice', 'trembled', 'slightly', '.']\n",
      "\n",
      "\n",
      "Sentence No.262:\n",
      " ['“', 'you', 'know', ',', 'her', 'mum', 'works', 'for', 'the', 'ministry', ',', 'it', '’', 's', 'really', 'difficult', 'for', 'her', '—', '”', '“', 'ron', '’', 's', 'dad', 'works', 'for', 'the', 'ministry', 'too', '!', '”', 'harry', 'said', 'furiously', '.'],\n",
      "['“', 'you', 'know', ',', 'his', 'mum', 'works', 'for', 'the', 'ministry', ',', 'it', '’', 's', 'really', 'difficult', 'for', 'his', '—', '”', '“', 'ron', '’', 's', 'dad', 'works', 'for', 'the', 'ministry', 'too', '!', '”', 'harry', 'said', 'furiously', '.']\n",
      "\n",
      "\n",
      "Sentence No.263:\n",
      " ['“', 'you', 'don', '’', 't', 'think', 'malfoy', 'did', 'something', 'to', 'her', '?', '”', 'ron', 'said', 'anxiously', 'as', 'they', 'hurried', 'upstairs', 'toward', 'gryffindor', 'tower', '.'],\n",
      "['“', 'you', 'don', '’', 't', 'think', 'malfoy', 'did', 'something', 'to', 'his', '?', '”', 'ron', 'said', 'anxiously', 'as', 'they', 'hurried', 'upstairs', 'toward', 'gryffindor', 'tower', '.']\n",
      "\n",
      "\n",
      "Sentence No.264:\n",
      " ['her', 'hair', 'was', 'sticking', 'up', 'on', 'end', ',', 'her', 'glasses', 'were', 'lopsided', 'so', 'that', 'one', 'eye', 'was', 'magnified', 'more', 'than', 'the', 'other', ';', 'her', 'innumerable', 'shawls', 'and', 'scarves', 'were', 'trailing', 'haphazardly', 'from', 'her', 'shoulders', ',', 'giving', 'the', 'impression', 'that', 'she', 'was', 'falling', 'apart', 'at', 'the', 'seams', '.'],\n",
      "['his', 'hair', 'was', 'sticking', 'up', 'on', 'end', ',', 'his', 'glasses', 'were', 'lopsided', 'so', 'that', 'one', 'eye', 'was', 'magnified', 'more', 'than', 'the', 'other', ';', 'his', 'innumerable', 'shawls', 'and', 'scarves', 'were', 'trailing', 'haphazardly', 'from', 'his', 'shoulders', ',', 'giving', 'the', 'impression', 'that', 'she', 'was', 'falling', 'apart', 'at', 'the', 'seams', '.']\n",
      "\n",
      "\n",
      "Sentence No.265:\n",
      " ['your', 'voice', ',', '”', 'he', 'held', 'up', 'the', 'deluminator', 'again', ',', '“', 'came', 'out', 'of', 'this.', '”', '“', 'and', 'what', 'exactly', 'did', 'i', 'say', '?', '”', 'asked', 'hermione', ',', 'her', 'tone', 'somewhere', 'between', 'skepticism', 'and', 'curiosity', '.'],\n",
      "['your', 'voice', ',', '”', 'he', 'held', 'up', 'the', 'deluminator', 'again', ',', '“', 'came', 'out', 'of', 'this.', '”', '“', 'and', 'what', 'exactly', 'did', 'i', 'say', '?', '”', 'asked', 'hermione', ',', 'his', 'tone', 'somewhere', 'between', 'skepticism', 'and', 'curiosity', '.']\n",
      "\n",
      "\n",
      "Sentence No.266:\n",
      " ['hermione', 'rolled', 'her', 'eyes', '.'],\n",
      "['hermione', 'rolled', 'his', 'eyes', '.']\n",
      "\n",
      "\n",
      "Sentence No.267:\n",
      " ['when', 'you', 'think', 'the', 'comet', 'two', 'ninety', '’', 's', 'only', 'naught', 'to', 'sixty', 'and', 'that', '’', 's', 'with', 'a', 'decent', 'tailwind', 'according', 'to', 'which', 'broomstick', '?', '”', 'hermione', 'was', 'talking', 'very', 'earnestly', 'to', 'lupin', 'about', 'her', 'view', 'of', 'elf', 'rights', '.'],\n",
      "['when', 'you', 'think', 'the', 'comet', 'two', 'ninety', '’', 's', 'only', 'naught', 'to', 'sixty', 'and', 'that', '’', 's', 'with', 'a', 'decent', 'tailwind', 'according', 'to', 'which', 'broomstick', '?', '”', 'hermione', 'was', 'talking', 'very', 'earnestly', 'to', 'lupin', 'about', 'his', 'view', 'of', 'elf', 'rights', '.']\n",
      "\n",
      "\n",
      "Sentence No.268:\n",
      " ['his', 'face', 'was', 'covered', 'in', 'darkness', 'and', 'all', 'she', 'could', 'make', 'out', 'were', 'his', 'flashing', 'eyes', 'glaring', 'at', 'her', '.'],\n",
      "['his', 'face', 'was', 'covered', 'in', 'darkness', 'and', 'all', 'she', 'could', 'make', 'out', 'were', 'his', 'flashing', 'eyes', 'glaring', 'at', 'his', '.']\n",
      "\n",
      "\n",
      "Sentence No.269:\n",
      " ['her', 'crowd.', '”', 'mrs.', 'dursley', 'sipped', 'her', 'tea', 'through', 'pursed', 'lips', '.'],\n",
      "['his', 'crowd.', '”', 'mrs.', 'dursley', 'sipped', 'his', 'tea', 'through', 'pursed', 'lips', '.']\n",
      "\n",
      "\n"
     ]
    }
   ],
   "source": [
    "# number 229 is interesting\n",
    "for i in range(227,270):\n",
    "    print(f'Sentence No.{i}:\\n {her_sentences[i]},\\n{bad_her_sentences[i]}\\n\\n')"
   ]
  },
  {
   "cell_type": "code",
   "execution_count": 54,
   "metadata": {},
   "outputs": [],
   "source": [
    "# plot_minimal_pair(her_sentences[229], bad_her_sentences[229], root ,AssignProbSent)"
   ]
  },
  {
   "cell_type": "code",
   "execution_count": 55,
   "metadata": {},
   "outputs": [
    {
     "name": "stdout",
     "output_type": "stream",
     "text": [
      "{'__COUNT__': 1, 'gamboling': {'__COUNT__': 1}}\n"
     ]
    }
   ],
   "source": [
    "print(root['foul']['kittens'])"
   ]
  },
  {
   "cell_type": "code",
   "execution_count": 56,
   "metadata": {},
   "outputs": [
    {
     "name": "stdout",
     "output_type": "stream",
     "text": [
      "Good avg log_prob is : -71.35\n",
      "Bad avg log_prob is : -90.32\n",
      "\n",
      "-----------------PERPLEXITY-------------------\n",
      "\n",
      "good Perplexity is : 15.55\n",
      "bad Perplexity is : 38.85\n",
      "327 out of 328 are correct predictions\n"
     ]
    },
    {
     "data": {
      "text/plain": [
       "[325]"
      ]
     },
     "execution_count": 56,
     "metadata": {},
     "output_type": "execute_result"
    }
   ],
   "source": [
    "compare_sets(her_sentences, unk_her_sentences, root)"
   ]
  },
  {
   "cell_type": "markdown",
   "metadata": {},
   "source": [
    "# Experiments on **what**"
   ]
  },
  {
   "cell_type": "code",
   "execution_count": 57,
   "metadata": {},
   "outputs": [],
   "source": [
    "log_uni_unk = log_uni_unk_prob(root)"
   ]
  },
  {
   "cell_type": "code",
   "execution_count": 58,
   "metadata": {},
   "outputs": [
    {
     "name": "stdout",
     "output_type": "stream",
     "text": [
      "-19.311846685673693\n"
     ]
    }
   ],
   "source": [
    "print(log_uni_unk)"
   ]
  },
  {
   "cell_type": "code",
   "execution_count": 59,
   "metadata": {},
   "outputs": [],
   "source": [
    "what_sentences = find_sentence_that_have('what', eval_set)\n",
    "which_sentences = find_sentence_that_have('which', eval_set)"
   ]
  },
  {
   "cell_type": "code",
   "execution_count": 60,
   "metadata": {},
   "outputs": [
    {
     "data": {
      "text/plain": [
       "-6.4490364822549555"
      ]
     },
     "execution_count": 60,
     "metadata": {},
     "output_type": "execute_result"
    }
   ],
   "source": [
    "sentences_unigram_probability(eval_set ,root, log_uni_unk)"
   ]
  },
  {
   "cell_type": "code",
   "execution_count": 61,
   "metadata": {},
   "outputs": [
    {
     "data": {
      "text/plain": [
       "-6.107701037638323"
      ]
     },
     "execution_count": 61,
     "metadata": {},
     "output_type": "execute_result"
    }
   ],
   "source": [
    "sentences_unigram_probability(what_sentences ,root, log_uni_unk)"
   ]
  },
  {
   "cell_type": "code",
   "execution_count": 62,
   "metadata": {},
   "outputs": [
    {
     "name": "stdout",
     "output_type": "stream",
     "text": [
      "The mean perplexity of these 328 sentences are 13.8\n"
     ]
    }
   ],
   "source": [
    "x = utils.calculating_perplexity(what_sentences,root, AssignProbSent)"
   ]
  },
  {
   "cell_type": "code",
   "execution_count": 63,
   "metadata": {},
   "outputs": [
    {
     "ename": "NameError",
     "evalue": "name 'sentences' is not defined",
     "output_type": "error",
     "traceback": [
      "\u001b[0;31m---------------------------------------------------------------------------\u001b[0m",
      "\u001b[0;31mNameError\u001b[0m                                 Traceback (most recent call last)",
      "\u001b[0;32m<ipython-input-63-0fbc4e1d951e>\u001b[0m in \u001b[0;36m<module>\u001b[0;34m\u001b[0m\n\u001b[0;32m----> 1\u001b[0;31m \u001b[0mx\u001b[0m \u001b[0;34m=\u001b[0m \u001b[0mutils\u001b[0m\u001b[0;34m.\u001b[0m\u001b[0mcalculating_perplexity\u001b[0m\u001b[0;34m(\u001b[0m\u001b[0msentences\u001b[0m\u001b[0;34m,\u001b[0m\u001b[0mroot\u001b[0m\u001b[0;34m,\u001b[0m \u001b[0mAssignProbSent\u001b[0m\u001b[0;34m)\u001b[0m\u001b[0;34m\u001b[0m\u001b[0;34m\u001b[0m\u001b[0m\n\u001b[0m",
      "\u001b[0;31mNameError\u001b[0m: name 'sentences' is not defined"
     ]
    }
   ],
   "source": [
    "x = utils.calculating_perplexity(sentences,root, AssignProbSent)"
   ]
  },
  {
   "cell_type": "code",
   "execution_count": null,
   "metadata": {},
   "outputs": [],
   "source": []
  },
  {
   "cell_type": "code",
   "execution_count": null,
   "metadata": {},
   "outputs": [],
   "source": []
  },
  {
   "cell_type": "markdown",
   "metadata": {},
   "source": [
    "Unigram probability need to be taken into consideration\n",
    "look at sentences with 'has have is were was are'\n",
    "set a clock on each step of the program(see where lies the bottleneck?)\n",
    "print() in various parts\n",
    "apostolic succession: \n",
    "\n",
    "3 different but related expreiments :(at least two different on the go)\n",
    "* pronuon agreement: probablity lowered when pronuon changed(esp. wrt Unigram Probability, if: else:)?\n",
    "* subj verb agreement\n",
    "* Distance between agreeing elements (degradation of overall prob (wrt the unigrams in the middle))\n",
    "\n",
    "Katz:languages and other abstract objects\n",
    "Platonist grammar\n",
    "\n",
    "'mentalist view of lang' \n",
    "'trans-finite number' "
   ]
  },
  {
   "cell_type": "code",
   "execution_count": null,
   "metadata": {},
   "outputs": [],
   "source": []
  },
  {
   "cell_type": "code",
   "execution_count": null,
   "metadata": {},
   "outputs": [],
   "source": []
  },
  {
   "cell_type": "code",
   "execution_count": null,
   "metadata": {},
   "outputs": [],
   "source": []
  },
  {
   "cell_type": "code",
   "execution_count": null,
   "metadata": {},
   "outputs": [],
   "source": []
  },
  {
   "cell_type": "code",
   "execution_count": null,
   "metadata": {},
   "outputs": [],
   "source": []
  },
  {
   "cell_type": "code",
   "execution_count": null,
   "metadata": {},
   "outputs": [],
   "source": []
  },
  {
   "cell_type": "code",
   "execution_count": null,
   "metadata": {},
   "outputs": [],
   "source": []
  }
 ],
 "metadata": {
  "kernelspec": {
   "display_name": "Python 3",
   "language": "python",
   "name": "python3"
  },
  "language_info": {
   "codemirror_mode": {
    "name": "ipython",
    "version": 3
   },
   "file_extension": ".py",
   "mimetype": "text/x-python",
   "name": "python",
   "nbconvert_exporter": "python",
   "pygments_lexer": "ipython3",
   "version": "3.6.9"
  }
 },
 "nbformat": 4,
 "nbformat_minor": 4
}
